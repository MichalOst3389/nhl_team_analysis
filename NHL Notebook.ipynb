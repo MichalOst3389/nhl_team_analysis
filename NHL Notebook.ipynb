{
 "cells": [
  {
   "cell_type": "markdown",
   "metadata": {},
   "source": [
    "# Business Problem\n",
    "\n",
    "\n",
    "\n"
   ]
  },
  {
   "cell_type": "code",
   "execution_count": 1,
   "metadata": {},
   "outputs": [],
   "source": [
    "import pandas as pd\n",
    "import numpy as np\n",
    "import seaborn as sns\n",
    "import matplotlib.pyplot as plt\n",
    "import matplotlib.image as mpimg\n",
    "import cv2\n",
    "from sklearn.model_selection import train_test_split\n",
    "from sklearn.linear_model import LogisticRegression\n",
    "from sklearn.ensemble import RandomForestClassifier\n",
    "from sklearn.preprocessing import StandardScaler\n",
    "from sklearn.linear_model import LinearRegression\n",
    "import statsmodels.api as sm\n",
    "from sklearn.tree import DecisionTreeClassifier\n",
    "from sklearn.metrics import accuracy_score\n",
    "from sklearn.metrics import mean_squared_error\n",
    "from sklearn.tree import DecisionTreeRegressor\n",
    "from sklearn.model_selection import GridSearchCV\n",
    "from scipy import stats\n",
    "from sklearn.ensemble import RandomForestRegressor\n",
    "from sklearn.pipeline import Pipeline\n",
    "from sklearn.impute import SimpleImputer"
   ]
  },
  {
   "cell_type": "code",
   "execution_count": 2,
   "metadata": {},
   "outputs": [],
   "source": [
    "shots_df = pd.read_csv('shots_2022.csv')\n",
    "buffalo_df = pd.read_csv('BUF.csv')\n",
    "buffalo_player_stats = pd.read_csv('buf_player_stats.csv')\n",
    "boston_player_stats = pd.read_csv('BOS.csv')\n",
    "boston_df = pd.read_csv('BOS_team_stats.csv')"
   ]
  },
  {
   "cell_type": "markdown",
   "metadata": {},
   "source": [
    "# Business Understanding\n",
    "\n",
    "\n",
    "The Buffalo Sabres want to know how they can improve.  First we will look into what areas they need to improve on, and then dive deeper into what suggestions we can make.\n",
    "\n",
    "The Sabres allow just as many goals as they score so focus should be minimizing the number of goals scored against them."
   ]
  },
  {
   "cell_type": "markdown",
   "metadata": {},
   "source": [
    "# Data Clean Up"
   ]
  },
  {
   "cell_type": "markdown",
   "metadata": {},
   "source": [
    "I only want to focus on the most current season, the 2022 season.  Usually the more data the better, however we do not want to include players that are not on either team anymore. "
   ]
  },
  {
   "cell_type": "code",
   "execution_count": 3,
   "metadata": {},
   "outputs": [],
   "source": [
    "buffalo_2022 = buffalo_df[buffalo_df['season'] == 2022]"
   ]
  },
  {
   "cell_type": "code",
   "execution_count": 4,
   "metadata": {},
   "outputs": [],
   "source": [
    "boston_df['gameId'] = boston_df['gameId'].astype(str)\n",
    "boston_2022 = boston_df[boston_df['gameId'].str[:4] == '2022']"
   ]
  },
  {
   "cell_type": "markdown",
   "metadata": {},
   "source": [
    "Both boston and buffalo have their own dfs that focus on the current (2022) season"
   ]
  },
  {
   "cell_type": "code",
   "execution_count": 5,
   "metadata": {},
   "outputs": [],
   "source": [
    "combined_2022_df = pd.concat([boston_2022, buffalo_2022])"
   ]
  },
  {
   "cell_type": "code",
   "execution_count": 6,
   "metadata": {},
   "outputs": [
    {
     "data": {
      "text/plain": [
       "340"
      ]
     },
     "execution_count": 6,
     "metadata": {},
     "output_type": "execute_result"
    }
   ],
   "source": [
    "combined_2022_df.isna().sum().sum()"
   ]
  },
  {
   "cell_type": "markdown",
   "metadata": {},
   "source": [
    "After removing the season column (we know its all 2022) there is no more missing values"
   ]
  },
  {
   "cell_type": "code",
   "execution_count": 7,
   "metadata": {},
   "outputs": [
    {
     "data": {
      "text/plain": [
       "340"
      ]
     },
     "execution_count": 7,
     "metadata": {},
     "output_type": "execute_result"
    }
   ],
   "source": [
    "combined_2022_df.isna().sum().sum()"
   ]
  },
  {
   "cell_type": "code",
   "execution_count": 8,
   "metadata": {},
   "outputs": [],
   "source": [
    "combined_2022_df.drop(\"season\", axis=1, inplace=True)"
   ]
  },
  {
   "cell_type": "code",
   "execution_count": 9,
   "metadata": {},
   "outputs": [
    {
     "data": {
      "text/plain": [
       "0"
      ]
     },
     "execution_count": 9,
     "metadata": {},
     "output_type": "execute_result"
    }
   ],
   "source": [
    "combined_2022_df.isna().sum().sum()"
   ]
  },
  {
   "cell_type": "markdown",
   "metadata": {},
   "source": [
    "Now that the seasons column has been removed (we know its all the 2022 season now) there are no missing values."
   ]
  },
  {
   "cell_type": "markdown",
   "metadata": {},
   "source": [
    "# EDA\n",
    "\n",
    "I want to compare Buffalo's total \"goalsFor\" and the total  \"goalsAgainst\" to that of Bostons."
   ]
  },
  {
   "cell_type": "code",
   "execution_count": 10,
   "metadata": {},
   "outputs": [
    {
     "name": "stdout",
     "output_type": "stream",
     "text": [
      "      goalsFor  goalsAgainst\n",
      "team                        \n",
      "BOS      254.0         147.0\n",
      "BUF      247.0         247.0\n"
     ]
    }
   ],
   "source": [
    "situation_all_df = combined_2022_df[combined_2022_df['situation'] == 'all']\n",
    "team_goals = situation_all_df.groupby('team').sum()[['goalsFor', 'goalsAgainst']]\n",
    "print(team_goals)"
   ]
  },
  {
   "cell_type": "code",
   "execution_count": 11,
   "metadata": {},
   "outputs": [
    {
     "data": {
      "image/png": "[encoded data removed]",
      "text/plain": [
       "<Figure size 864x576 with 1 Axes>"
      ]
     },
     "metadata": {
      "needs_background": "light"
     },
     "output_type": "display_data"
    }
   ],
   "source": [
    "# Group the resulting DataFrame by the 'team' column, and sum the 'goalsFor' and 'goalsAgainst' columns within each group\n",
    "team_goals = situation_all_df.groupby('team').sum()[['goalsFor', 'goalsAgainst']]\n",
    "\n",
    "# Get the list of team names and the number of teams\n",
    "team_names = list(team_goals.index)\n",
    "num_teams = len(team_names)\n",
    "\n",
    "# Create a numpy array for the goalsFor and goalsAgainst data\n",
    "goals_for_data = np.array(team_goals['goalsFor'])\n",
    "goals_against_data = np.array(team_goals['goalsAgainst'])\n",
    "\n",
    "# Define the width of the bars\n",
    "bar_width = 0.35\n",
    "\n",
    "# Create a numpy array for the x-axis positions of the bars\n",
    "x_positions = np.arange(num_teams)\n",
    "\n",
    "# Set the figure size\n",
    "fig, ax = plt.subplots(figsize=(12, 8))\n",
    "\n",
    "# Create the bars for goalsFor and goalsAgainst for each team\n",
    "ax.bar(x_positions - bar_width/2, goals_for_data, bar_width, label='Goals For')\n",
    "ax.bar(x_positions + bar_width/2, goals_against_data, bar_width, label='Goals Against')\n",
    "\n",
    "# Set the title and axis labels for the chart\n",
    "plt.title('Total Goals Scored and Conceded by Team')\n",
    "plt.xlabel('Team')\n",
    "plt.ylabel('Total Goals')\n",
    "\n",
    "# Set the tick labels for the x-axis\n",
    "ax.set_xticks(x_positions)\n",
    "ax.set_xticklabels(team_names)\n",
    "\n",
    "# Add a legend for the bars\n",
    "ax.legend()\n",
    "\n",
    "# Show the chart\n",
    "plt.show()"
   ]
  },
  {
   "cell_type": "markdown",
   "metadata": {},
   "source": [
    "Looking at this, we can see that Boston (a serious Stanley Cup contender) scores about 100 more goals than they let in.  Buffalo on the other hand is dead even, 247 \"goalsFor\", and 247 \"goalsAgainst\". Also, Buffalo has a total \"goalsFor\" that is very similar to Boston's. This tells me that Buffalo has an offense that is on par with one of the best teams in the league, but their defense is far behind.\n",
    "\n",
    "Now we will try to explain why Boston's defense is letting in so few goals compared to Buffalo."
   ]
  },
  {
   "cell_type": "code",
   "execution_count": null,
   "metadata": {},
   "outputs": [],
   "source": []
  },
  {
   "cell_type": "markdown",
   "metadata": {},
   "source": [
    "# Defense Analysis\n",
    "\n",
    "I want to compare the defense for different situations for both teams to focus in on why why Boston allows so many fewer goals"
   ]
  },
  {
   "cell_type": "code",
   "execution_count": 12,
   "metadata": {},
   "outputs": [
    {
     "name": "stdout",
     "output_type": "stream",
     "text": [
      "Situation percentages for each team:\n",
      "situation  4on5  5on4  5on5    all  other\n",
      "team                                     \n",
      "BOS        21.1   3.4  64.6  100.0   10.9\n",
      "BUF        19.0   2.0  66.8  100.0   12.1\n"
     ]
    },
    {
     "data": {
      "image/png": "[encoded data removed]",
      "text/plain": [
       "<Figure size 864x432 with 1 Axes>"
      ]
     },
     "metadata": {
      "needs_background": "light"
     },
     "output_type": "display_data"
    }
   ],
   "source": [
    "# Group the data by team and situation and get the sum of goalsAgainst\n",
    "team_situation_goals = combined_2022_df.groupby(['team', 'situation']).sum()['goalsAgainst']\n",
    "\n",
    "# Reshape the data to a wide format\n",
    "team_situation_goals = team_situation_goals.unstack()\n",
    "\n",
    "# Calculate the total goalsAgainst for each team\n",
    "total_goals = team_situation_goals.sum(axis=1)\n",
    "\n",
    "# Calculate the percentage of each situation's goalsAgainst out of the team's total goalsAgainst\n",
    "situation_percentages = (team_situation_goals.div(total_goals, axis=0) * 100 * 2).round(1)\n",
    "\n",
    "# Print the list of percentages for each situation\n",
    "print(\"Situation percentages for each team:\")\n",
    "print(situation_percentages)\n",
    "\n",
    "# Plot the data\n",
    "team_situation_goals.plot(kind='bar', figsize=(12, 6))\n",
    "\n",
    "# Set the plot title and labels\n",
    "plt.title('Goals Against by Situation and Team')\n",
    "plt.xlabel('Situation')\n",
    "plt.ylabel('Goals Against')\n",
    "\n",
    "# Show the plot\n",
    "plt.show()"
   ]
  },
  {
   "cell_type": "markdown",
   "metadata": {},
   "source": [
    "Percentages for both teams are close to each other for percentages of goals against in each situation. This indicates that buffalo allows too many goals all together, rather than just being particularly bad in one situation.  Next we can look into what features correlate to allowing a goal for buffalo's complete goalsAgainst total."
   ]
  },
  {
   "cell_type": "markdown",
   "metadata": {},
   "source": [
    "# Buffalo's goalsAgainst most relevant features"
   ]
  },
  {
   "cell_type": "code",
   "execution_count": 13,
   "metadata": {},
   "outputs": [
    {
     "name": "stdout",
     "output_type": "stream",
     "text": [
      "highDangerGoalsAgainst                 0.672946\n",
      "mediumDangerGoalsAgainst               0.595512\n",
      "scoreAdjustedTotalShotCreditAgainst    0.466992\n",
      "scoreVenueAdjustedxGoalsAgainst        0.393520\n",
      "totalShotCreditAgainst                 0.384837\n",
      "highDangerxGoalsAgainst                0.354096\n",
      "lowDangerGoalsAgainst                  0.345214\n",
      "reboundGoalsAgainst                    0.320879\n",
      "xGoalsAgainst                          0.315013\n",
      "highDangerShotsAgainst                 0.258818\n",
      "playStoppedAgainst                     0.187315\n",
      "gameId                                 0.168217\n",
      "Name: goalsAgainst, dtype: float64\n"
     ]
    }
   ],
   "source": [
    "# Drop columns that contain 'flurry' or 'Flurry' in their names\n",
    "buffalo_2022_filtered = buffalo_2022.drop(columns=[col for col in buffalo_2022.columns if 'flurry' in col.lower()])\n",
    "\n",
    "# Filter the dataframe to only include rows where situation is \"all\"\n",
    "buffalo_2022_filtered = buffalo_2022_filtered[buffalo_2022_filtered['situation'] == 'all']\n",
    "\n",
    "# Calculate the correlation between each column and goalsAgainst\n",
    "correlations = buffalo_2022_filtered.corr()['goalsAgainst']\n",
    "\n",
    "# Get the top 12 correlations (excluding the correlation with goalsAgainst itself)\n",
    "top_correlations = correlations.nlargest(13)[1:]\n",
    "\n",
    "# Print the top 12 correlations\n",
    "print(top_correlations)"
   ]
  },
  {
   "cell_type": "markdown",
   "metadata": {},
   "source": [
    "We can see that highDangerGoalsAgainst and mediumDangerGoalsAgainst are the top two correlated features to goalsAgainst.  This indicates that Buffalo is allowing teams to get to these areas to easily.  Next let's compare this list of features to the features that are relevant to Boston (cup contender) being scored on."
   ]
  },
  {
   "cell_type": "markdown",
   "metadata": {},
   "source": [
    "# Boston's goalsAgainst most relevant features"
   ]
  },
  {
   "cell_type": "code",
   "execution_count": 14,
   "metadata": {},
   "outputs": [
    {
     "name": "stdout",
     "output_type": "stream",
     "text": [
      "mediumDangerGoalsAgainst               0.623421\n",
      "highDangerGoalsAgainst                 0.572474\n",
      "scoreAdjustedTotalShotCreditAgainst    0.520825\n",
      "totalShotCreditAgainst                 0.500354\n",
      "scoreVenueAdjustedxGoalsAgainst        0.474769\n",
      "xGoalsAgainst                          0.458834\n",
      "mediumDangerShotsAgainst               0.452626\n",
      "lowDangerGoalsAgainst                  0.436365\n",
      "mediumDangerxGoalsAgainst              0.436138\n",
      "reboundGoalsAgainst                    0.393949\n",
      "highDangerShotsAgainst                 0.359798\n",
      "playContinuedInZoneFor                 0.341447\n",
      "Name: goalsAgainst, dtype: float64\n"
     ]
    }
   ],
   "source": [
    "# Drop columns that contain 'flurry' or 'Flurry' in their names\n",
    "boston_2022_filtered = boston_2022.drop(columns=[col for col in buffalo_2022.columns if 'flurry' in col.lower()])\n",
    "\n",
    "# Filter the dataframe to only include rows where situation is \"all\"\n",
    "boston_2022_filtered = boston_2022_filtered[boston_2022_filtered['situation'] == 'all']\n",
    "\n",
    "# Calculate the correlation between each column and goalsAgainst\n",
    "correlations = boston_2022_filtered.corr()['goalsAgainst']\n",
    "\n",
    "# Get the top 12 correlations (excluding the correlation with goalsAgainst itself)\n",
    "top_correlations = correlations.nlargest(13)[1:]\n",
    "\n",
    "# Print the top 12 correlations\n",
    "print(top_correlations)"
   ]
  },
  {
   "cell_type": "markdown",
   "metadata": {},
   "source": [
    "We see a few similar features here.  However one thing we should note here is that highDangerGoalsAgainst for Boston is lower than for Buffalo.  To me this means that Boston is doing a better job of keeping shooters out of the high danger areas.  Boston's high danger goalsAgainst are .10 lower than Buffalo."
   ]
  },
  {
   "cell_type": "code",
   "execution_count": 15,
   "metadata": {},
   "outputs": [
    {
     "data": {
      "text/html": [
       "<div>\n",
       "<style scoped>\n",
       "    .dataframe tbody tr th:only-of-type {\n",
       "        vertical-align: middle;\n",
       "    }\n",
       "\n",
       "    .dataframe tbody tr th {\n",
       "        vertical-align: top;\n",
       "    }\n",
       "\n",
       "    .dataframe thead th {\n",
       "        text-align: right;\n",
       "    }\n",
       "</style>\n",
       "<table border=\"1\" class=\"dataframe\">\n",
       "  <thead>\n",
       "    <tr style=\"text-align: right;\">\n",
       "      <th></th>\n",
       "      <th>team</th>\n",
       "      <th>name</th>\n",
       "      <th>gameId</th>\n",
       "      <th>playerTeam</th>\n",
       "      <th>opposingTeam</th>\n",
       "      <th>home_or_away</th>\n",
       "      <th>gameDate</th>\n",
       "      <th>position</th>\n",
       "      <th>situation</th>\n",
       "      <th>xGoalsPercentage</th>\n",
       "      <th>...</th>\n",
       "      <th>scoreAdjustedShotsAttemptsAgainst</th>\n",
       "      <th>unblockedShotAttemptsAgainst</th>\n",
       "      <th>scoreAdjustedUnblockedShotAttemptsAgainst</th>\n",
       "      <th>dZoneGiveawaysAgainst</th>\n",
       "      <th>xGoalsFromxReboundsOfShotsAgainst</th>\n",
       "      <th>xGoalsFromActualReboundsOfShotsAgainst</th>\n",
       "      <th>reboundxGoalsAgainst</th>\n",
       "      <th>totalShotCreditAgainst</th>\n",
       "      <th>scoreAdjustedTotalShotCreditAgainst</th>\n",
       "      <th>scoreFlurryAdjustedTotalShotCreditAgainst</th>\n",
       "    </tr>\n",
       "  </thead>\n",
       "  <tbody>\n",
       "    <tr>\n",
       "      <th>1</th>\n",
       "      <td>BOS</td>\n",
       "      <td>BOS</td>\n",
       "      <td>2022020005</td>\n",
       "      <td>BOS</td>\n",
       "      <td>WSH</td>\n",
       "      <td>AWAY</td>\n",
       "      <td>20221012</td>\n",
       "      <td>Team Level</td>\n",
       "      <td>all</td>\n",
       "      <td>0.5323</td>\n",
       "      <td>...</td>\n",
       "      <td>62.005</td>\n",
       "      <td>46.0</td>\n",
       "      <td>43.172</td>\n",
       "      <td>7.0</td>\n",
       "      <td>0.538</td>\n",
       "      <td>0.212</td>\n",
       "      <td>0.212</td>\n",
       "      <td>3.082</td>\n",
       "      <td>2.937</td>\n",
       "      <td>2.801</td>\n",
       "    </tr>\n",
       "    <tr>\n",
       "      <th>6</th>\n",
       "      <td>BOS</td>\n",
       "      <td>BOS</td>\n",
       "      <td>2022020027</td>\n",
       "      <td>BOS</td>\n",
       "      <td>ARI</td>\n",
       "      <td>HOME</td>\n",
       "      <td>20221015</td>\n",
       "      <td>Team Level</td>\n",
       "      <td>all</td>\n",
       "      <td>0.6985</td>\n",
       "      <td>...</td>\n",
       "      <td>44.967</td>\n",
       "      <td>33.0</td>\n",
       "      <td>32.216</td>\n",
       "      <td>3.0</td>\n",
       "      <td>0.381</td>\n",
       "      <td>0.225</td>\n",
       "      <td>0.225</td>\n",
       "      <td>2.545</td>\n",
       "      <td>2.545</td>\n",
       "      <td>2.530</td>\n",
       "    </tr>\n",
       "    <tr>\n",
       "      <th>11</th>\n",
       "      <td>BOS</td>\n",
       "      <td>BOS</td>\n",
       "      <td>2022020041</td>\n",
       "      <td>BOS</td>\n",
       "      <td>FLA</td>\n",
       "      <td>HOME</td>\n",
       "      <td>20221017</td>\n",
       "      <td>Team Level</td>\n",
       "      <td>all</td>\n",
       "      <td>0.5490</td>\n",
       "      <td>...</td>\n",
       "      <td>77.245</td>\n",
       "      <td>56.0</td>\n",
       "      <td>55.373</td>\n",
       "      <td>0.0</td>\n",
       "      <td>0.867</td>\n",
       "      <td>1.571</td>\n",
       "      <td>1.571</td>\n",
       "      <td>3.100</td>\n",
       "      <td>3.119</td>\n",
       "      <td>3.022</td>\n",
       "    </tr>\n",
       "    <tr>\n",
       "      <th>16</th>\n",
       "      <td>BOS</td>\n",
       "      <td>BOS</td>\n",
       "      <td>2022020049</td>\n",
       "      <td>BOS</td>\n",
       "      <td>OTT</td>\n",
       "      <td>AWAY</td>\n",
       "      <td>20221018</td>\n",
       "      <td>Team Level</td>\n",
       "      <td>all</td>\n",
       "      <td>0.4741</td>\n",
       "      <td>...</td>\n",
       "      <td>62.238</td>\n",
       "      <td>47.0</td>\n",
       "      <td>48.161</td>\n",
       "      <td>6.0</td>\n",
       "      <td>0.557</td>\n",
       "      <td>0.509</td>\n",
       "      <td>0.509</td>\n",
       "      <td>3.989</td>\n",
       "      <td>4.007</td>\n",
       "      <td>3.965</td>\n",
       "    </tr>\n",
       "    <tr>\n",
       "      <th>21</th>\n",
       "      <td>BOS</td>\n",
       "      <td>BOS</td>\n",
       "      <td>2022020059</td>\n",
       "      <td>BOS</td>\n",
       "      <td>ANA</td>\n",
       "      <td>HOME</td>\n",
       "      <td>20221020</td>\n",
       "      <td>Team Level</td>\n",
       "      <td>all</td>\n",
       "      <td>0.6459</td>\n",
       "      <td>...</td>\n",
       "      <td>49.917</td>\n",
       "      <td>39.0</td>\n",
       "      <td>39.564</td>\n",
       "      <td>3.0</td>\n",
       "      <td>0.377</td>\n",
       "      <td>0.010</td>\n",
       "      <td>0.010</td>\n",
       "      <td>1.910</td>\n",
       "      <td>1.962</td>\n",
       "      <td>1.925</td>\n",
       "    </tr>\n",
       "    <tr>\n",
       "      <th>...</th>\n",
       "      <td>...</td>\n",
       "      <td>...</td>\n",
       "      <td>...</td>\n",
       "      <td>...</td>\n",
       "      <td>...</td>\n",
       "      <td>...</td>\n",
       "      <td>...</td>\n",
       "      <td>...</td>\n",
       "      <td>...</td>\n",
       "      <td>...</td>\n",
       "      <td>...</td>\n",
       "      <td>...</td>\n",
       "      <td>...</td>\n",
       "      <td>...</td>\n",
       "      <td>...</td>\n",
       "      <td>...</td>\n",
       "      <td>...</td>\n",
       "      <td>...</td>\n",
       "      <td>...</td>\n",
       "      <td>...</td>\n",
       "      <td>...</td>\n",
       "    </tr>\n",
       "    <tr>\n",
       "      <th>5691</th>\n",
       "      <td>BUF</td>\n",
       "      <td>BUF</td>\n",
       "      <td>2022021025</td>\n",
       "      <td>BUF</td>\n",
       "      <td>DAL</td>\n",
       "      <td>HOME</td>\n",
       "      <td>20230309</td>\n",
       "      <td>Team Level</td>\n",
       "      <td>all</td>\n",
       "      <td>0.2916</td>\n",
       "      <td>...</td>\n",
       "      <td>75.615</td>\n",
       "      <td>58.0</td>\n",
       "      <td>65.151</td>\n",
       "      <td>1.0</td>\n",
       "      <td>0.710</td>\n",
       "      <td>0.036</td>\n",
       "      <td>0.036</td>\n",
       "      <td>4.969</td>\n",
       "      <td>5.506</td>\n",
       "      <td>5.404</td>\n",
       "    </tr>\n",
       "    <tr>\n",
       "      <th>5696</th>\n",
       "      <td>BUF</td>\n",
       "      <td>BUF</td>\n",
       "      <td>2022021040</td>\n",
       "      <td>BUF</td>\n",
       "      <td>NYR</td>\n",
       "      <td>HOME</td>\n",
       "      <td>20230311</td>\n",
       "      <td>Team Level</td>\n",
       "      <td>all</td>\n",
       "      <td>0.5431</td>\n",
       "      <td>...</td>\n",
       "      <td>53.127</td>\n",
       "      <td>38.0</td>\n",
       "      <td>38.666</td>\n",
       "      <td>3.0</td>\n",
       "      <td>0.513</td>\n",
       "      <td>0.201</td>\n",
       "      <td>0.201</td>\n",
       "      <td>2.519</td>\n",
       "      <td>2.580</td>\n",
       "      <td>2.378</td>\n",
       "    </tr>\n",
       "    <tr>\n",
       "      <th>5701</th>\n",
       "      <td>BUF</td>\n",
       "      <td>BUF</td>\n",
       "      <td>2022021061</td>\n",
       "      <td>BUF</td>\n",
       "      <td>TOR</td>\n",
       "      <td>AWAY</td>\n",
       "      <td>20230313</td>\n",
       "      <td>Team Level</td>\n",
       "      <td>all</td>\n",
       "      <td>0.6560</td>\n",
       "      <td>...</td>\n",
       "      <td>47.833</td>\n",
       "      <td>39.0</td>\n",
       "      <td>38.148</td>\n",
       "      <td>11.0</td>\n",
       "      <td>0.385</td>\n",
       "      <td>0.266</td>\n",
       "      <td>0.266</td>\n",
       "      <td>1.970</td>\n",
       "      <td>1.911</td>\n",
       "      <td>1.869</td>\n",
       "    </tr>\n",
       "    <tr>\n",
       "      <th>5706</th>\n",
       "      <td>BUF</td>\n",
       "      <td>BUF</td>\n",
       "      <td>2022021076</td>\n",
       "      <td>BUF</td>\n",
       "      <td>WSH</td>\n",
       "      <td>AWAY</td>\n",
       "      <td>20230315</td>\n",
       "      <td>Team Level</td>\n",
       "      <td>all</td>\n",
       "      <td>0.4239</td>\n",
       "      <td>...</td>\n",
       "      <td>64.443</td>\n",
       "      <td>50.0</td>\n",
       "      <td>46.268</td>\n",
       "      <td>11.0</td>\n",
       "      <td>0.619</td>\n",
       "      <td>0.968</td>\n",
       "      <td>0.968</td>\n",
       "      <td>3.194</td>\n",
       "      <td>2.987</td>\n",
       "      <td>2.931</td>\n",
       "    </tr>\n",
       "    <tr>\n",
       "      <th>5711</th>\n",
       "      <td>BUF</td>\n",
       "      <td>BUF</td>\n",
       "      <td>2022021091</td>\n",
       "      <td>BUF</td>\n",
       "      <td>PHI</td>\n",
       "      <td>AWAY</td>\n",
       "      <td>20230317</td>\n",
       "      <td>Team Level</td>\n",
       "      <td>all</td>\n",
       "      <td>0.5528</td>\n",
       "      <td>...</td>\n",
       "      <td>45.968</td>\n",
       "      <td>31.0</td>\n",
       "      <td>32.004</td>\n",
       "      <td>6.0</td>\n",
       "      <td>0.372</td>\n",
       "      <td>0.337</td>\n",
       "      <td>0.337</td>\n",
       "      <td>2.501</td>\n",
       "      <td>2.526</td>\n",
       "      <td>2.497</td>\n",
       "    </tr>\n",
       "  </tbody>\n",
       "</table>\n",
       "<p>136 rows × 109 columns</p>\n",
       "</div>"
      ],
      "text/plain": [
       "     team name      gameId playerTeam opposingTeam home_or_away  gameDate  \\\n",
       "1     BOS  BOS  2022020005        BOS          WSH         AWAY  20221012   \n",
       "6     BOS  BOS  2022020027        BOS          ARI         HOME  20221015   \n",
       "11    BOS  BOS  2022020041        BOS          FLA         HOME  20221017   \n",
       "16    BOS  BOS  2022020049        BOS          OTT         AWAY  20221018   \n",
       "21    BOS  BOS  2022020059        BOS          ANA         HOME  20221020   \n",
       "...   ...  ...         ...        ...          ...          ...       ...   \n",
       "5691  BUF  BUF  2022021025        BUF          DAL         HOME  20230309   \n",
       "5696  BUF  BUF  2022021040        BUF          NYR         HOME  20230311   \n",
       "5701  BUF  BUF  2022021061        BUF          TOR         AWAY  20230313   \n",
       "5706  BUF  BUF  2022021076        BUF          WSH         AWAY  20230315   \n",
       "5711  BUF  BUF  2022021091        BUF          PHI         AWAY  20230317   \n",
       "\n",
       "        position situation  xGoalsPercentage  ...  \\\n",
       "1     Team Level       all            0.5323  ...   \n",
       "6     Team Level       all            0.6985  ...   \n",
       "11    Team Level       all            0.5490  ...   \n",
       "16    Team Level       all            0.4741  ...   \n",
       "21    Team Level       all            0.6459  ...   \n",
       "...          ...       ...               ...  ...   \n",
       "5691  Team Level       all            0.2916  ...   \n",
       "5696  Team Level       all            0.5431  ...   \n",
       "5701  Team Level       all            0.6560  ...   \n",
       "5706  Team Level       all            0.4239  ...   \n",
       "5711  Team Level       all            0.5528  ...   \n",
       "\n",
       "      scoreAdjustedShotsAttemptsAgainst  unblockedShotAttemptsAgainst  \\\n",
       "1                                62.005                          46.0   \n",
       "6                                44.967                          33.0   \n",
       "11                               77.245                          56.0   \n",
       "16                               62.238                          47.0   \n",
       "21                               49.917                          39.0   \n",
       "...                                 ...                           ...   \n",
       "5691                             75.615                          58.0   \n",
       "5696                             53.127                          38.0   \n",
       "5701                             47.833                          39.0   \n",
       "5706                             64.443                          50.0   \n",
       "5711                             45.968                          31.0   \n",
       "\n",
       "      scoreAdjustedUnblockedShotAttemptsAgainst  dZoneGiveawaysAgainst  \\\n",
       "1                                        43.172                    7.0   \n",
       "6                                        32.216                    3.0   \n",
       "11                                       55.373                    0.0   \n",
       "16                                       48.161                    6.0   \n",
       "21                                       39.564                    3.0   \n",
       "...                                         ...                    ...   \n",
       "5691                                     65.151                    1.0   \n",
       "5696                                     38.666                    3.0   \n",
       "5701                                     38.148                   11.0   \n",
       "5706                                     46.268                   11.0   \n",
       "5711                                     32.004                    6.0   \n",
       "\n",
       "      xGoalsFromxReboundsOfShotsAgainst  \\\n",
       "1                                 0.538   \n",
       "6                                 0.381   \n",
       "11                                0.867   \n",
       "16                                0.557   \n",
       "21                                0.377   \n",
       "...                                 ...   \n",
       "5691                              0.710   \n",
       "5696                              0.513   \n",
       "5701                              0.385   \n",
       "5706                              0.619   \n",
       "5711                              0.372   \n",
       "\n",
       "      xGoalsFromActualReboundsOfShotsAgainst  reboundxGoalsAgainst  \\\n",
       "1                                      0.212                 0.212   \n",
       "6                                      0.225                 0.225   \n",
       "11                                     1.571                 1.571   \n",
       "16                                     0.509                 0.509   \n",
       "21                                     0.010                 0.010   \n",
       "...                                      ...                   ...   \n",
       "5691                                   0.036                 0.036   \n",
       "5696                                   0.201                 0.201   \n",
       "5701                                   0.266                 0.266   \n",
       "5706                                   0.968                 0.968   \n",
       "5711                                   0.337                 0.337   \n",
       "\n",
       "      totalShotCreditAgainst  scoreAdjustedTotalShotCreditAgainst  \\\n",
       "1                      3.082                                2.937   \n",
       "6                      2.545                                2.545   \n",
       "11                     3.100                                3.119   \n",
       "16                     3.989                                4.007   \n",
       "21                     1.910                                1.962   \n",
       "...                      ...                                  ...   \n",
       "5691                   4.969                                5.506   \n",
       "5696                   2.519                                2.580   \n",
       "5701                   1.970                                1.911   \n",
       "5706                   3.194                                2.987   \n",
       "5711                   2.501                                2.526   \n",
       "\n",
       "      scoreFlurryAdjustedTotalShotCreditAgainst  \n",
       "1                                         2.801  \n",
       "6                                         2.530  \n",
       "11                                        3.022  \n",
       "16                                        3.965  \n",
       "21                                        1.925  \n",
       "...                                         ...  \n",
       "5691                                      5.404  \n",
       "5696                                      2.378  \n",
       "5701                                      1.869  \n",
       "5706                                      2.931  \n",
       "5711                                      2.497  \n",
       "\n",
       "[136 rows x 109 columns]"
      ]
     },
     "execution_count": 15,
     "metadata": {},
     "output_type": "execute_result"
    }
   ],
   "source": [
    "situation_all_df"
   ]
  },
  {
   "cell_type": "markdown",
   "metadata": {},
   "source": [
    "We are now looking into what the difference in goals is for Boston and Buffalo when being scored on from a high danger areas."
   ]
  },
  {
   "cell_type": "code",
   "execution_count": 16,
   "metadata": {},
   "outputs": [
    {
     "name": "stdout",
     "output_type": "stream",
     "text": [
      "      goalsAgainst  highDangerGoalsAgainst\n",
      "team                                      \n",
      "BOS          147.0                    51.0\n",
      "BUF          247.0                    81.0\n"
     ]
    }
   ],
   "source": [
    "# Filter the dataframe to only include high danger goals against\n",
    "high_danger_df = situation_all_df[situation_all_df['situation'] == 'all'][['team', 'goalsAgainst', 'highDangerGoalsAgainst']]\n",
    "\n",
    "# Group the dataframe by team and sum the high danger goals against\n",
    "team_high_danger_df = high_danger_df.groupby('team').sum()\n",
    "\n",
    "# Print the resulting dataframe\n",
    "print(team_high_danger_df)"
   ]
  },
  {
   "cell_type": "markdown",
   "metadata": {},
   "source": [
    "Buffalo allows 30 more goals from high danger areas.  When games can be won by one or two goals this can be a serious problem.  Buffalo is one of the top scoring teams in the league but allows so many goals."
   ]
  },
  {
   "cell_type": "code",
   "execution_count": 17,
   "metadata": {},
   "outputs": [
    {
     "data": {
      "text/html": [
       "<div>\n",
       "<style scoped>\n",
       "    .dataframe tbody tr th:only-of-type {\n",
       "        vertical-align: middle;\n",
       "    }\n",
       "\n",
       "    .dataframe tbody tr th {\n",
       "        vertical-align: top;\n",
       "    }\n",
       "\n",
       "    .dataframe thead th {\n",
       "        text-align: right;\n",
       "    }\n",
       "</style>\n",
       "<table border=\"1\" class=\"dataframe\">\n",
       "  <thead>\n",
       "    <tr style=\"text-align: right;\">\n",
       "      <th></th>\n",
       "      <th>shotID</th>\n",
       "      <th>arenaAdjustedShotDistance</th>\n",
       "      <th>arenaAdjustedXCord</th>\n",
       "      <th>arenaAdjustedXCordABS</th>\n",
       "      <th>arenaAdjustedYCord</th>\n",
       "      <th>arenaAdjustedYCordAbs</th>\n",
       "      <th>averageRestDifference</th>\n",
       "      <th>awayEmptyNet</th>\n",
       "      <th>awayPenalty1Length</th>\n",
       "      <th>awayPenalty1TimeLeft</th>\n",
       "      <th>...</th>\n",
       "      <th>xCordAdjusted</th>\n",
       "      <th>xFroze</th>\n",
       "      <th>xGoal</th>\n",
       "      <th>xPlayContinuedInZone</th>\n",
       "      <th>xPlayContinuedOutsideZone</th>\n",
       "      <th>xPlayStopped</th>\n",
       "      <th>xRebound</th>\n",
       "      <th>xShotWasOnGoal</th>\n",
       "      <th>yCord</th>\n",
       "      <th>yCordAdjusted</th>\n",
       "    </tr>\n",
       "  </thead>\n",
       "  <tbody>\n",
       "    <tr>\n",
       "      <th>0</th>\n",
       "      <td>0</td>\n",
       "      <td>43.0</td>\n",
       "      <td>47.0</td>\n",
       "      <td>47.0</td>\n",
       "      <td>8.0</td>\n",
       "      <td>8.0</td>\n",
       "      <td>0.000000</td>\n",
       "      <td>0</td>\n",
       "      <td>0</td>\n",
       "      <td>0</td>\n",
       "      <td>...</td>\n",
       "      <td>44</td>\n",
       "      <td>0.214393</td>\n",
       "      <td>0.026009</td>\n",
       "      <td>0.398742</td>\n",
       "      <td>0.300830</td>\n",
       "      <td>0.022987</td>\n",
       "      <td>0.037040</td>\n",
       "      <td>0.710473</td>\n",
       "      <td>8</td>\n",
       "      <td>8</td>\n",
       "    </tr>\n",
       "    <tr>\n",
       "      <th>1</th>\n",
       "      <td>1</td>\n",
       "      <td>51.0</td>\n",
       "      <td>45.0</td>\n",
       "      <td>45.0</td>\n",
       "      <td>26.0</td>\n",
       "      <td>26.0</td>\n",
       "      <td>0.000000</td>\n",
       "      <td>0</td>\n",
       "      <td>0</td>\n",
       "      <td>0</td>\n",
       "      <td>...</td>\n",
       "      <td>44</td>\n",
       "      <td>0.186673</td>\n",
       "      <td>0.007774</td>\n",
       "      <td>0.455486</td>\n",
       "      <td>0.294453</td>\n",
       "      <td>0.020666</td>\n",
       "      <td>0.034948</td>\n",
       "      <td>0.667152</td>\n",
       "      <td>27</td>\n",
       "      <td>27</td>\n",
       "    </tr>\n",
       "    <tr>\n",
       "      <th>2</th>\n",
       "      <td>2</td>\n",
       "      <td>59.0</td>\n",
       "      <td>-31.0</td>\n",
       "      <td>31.0</td>\n",
       "      <td>8.0</td>\n",
       "      <td>8.0</td>\n",
       "      <td>0.000000</td>\n",
       "      <td>0</td>\n",
       "      <td>0</td>\n",
       "      <td>0</td>\n",
       "      <td>...</td>\n",
       "      <td>33</td>\n",
       "      <td>0.256798</td>\n",
       "      <td>0.046070</td>\n",
       "      <td>0.358080</td>\n",
       "      <td>0.259696</td>\n",
       "      <td>0.027936</td>\n",
       "      <td>0.051420</td>\n",
       "      <td>0.644651</td>\n",
       "      <td>8</td>\n",
       "      <td>-8</td>\n",
       "    </tr>\n",
       "    <tr>\n",
       "      <th>3</th>\n",
       "      <td>3</td>\n",
       "      <td>14.0</td>\n",
       "      <td>-76.0</td>\n",
       "      <td>76.0</td>\n",
       "      <td>-4.0</td>\n",
       "      <td>4.0</td>\n",
       "      <td>0.000000</td>\n",
       "      <td>0</td>\n",
       "      <td>0</td>\n",
       "      <td>0</td>\n",
       "      <td>...</td>\n",
       "      <td>74</td>\n",
       "      <td>0.172590</td>\n",
       "      <td>0.296800</td>\n",
       "      <td>0.230564</td>\n",
       "      <td>0.183049</td>\n",
       "      <td>0.024885</td>\n",
       "      <td>0.092112</td>\n",
       "      <td>0.898032</td>\n",
       "      <td>-5</td>\n",
       "      <td>5</td>\n",
       "    </tr>\n",
       "    <tr>\n",
       "      <th>4</th>\n",
       "      <td>4</td>\n",
       "      <td>14.0</td>\n",
       "      <td>-82.0</td>\n",
       "      <td>82.0</td>\n",
       "      <td>12.0</td>\n",
       "      <td>12.0</td>\n",
       "      <td>0.000000</td>\n",
       "      <td>0</td>\n",
       "      <td>0</td>\n",
       "      <td>0</td>\n",
       "      <td>...</td>\n",
       "      <td>81</td>\n",
       "      <td>0.128260</td>\n",
       "      <td>0.057435</td>\n",
       "      <td>0.446106</td>\n",
       "      <td>0.286419</td>\n",
       "      <td>0.019556</td>\n",
       "      <td>0.062224</td>\n",
       "      <td>0.759405</td>\n",
       "      <td>15</td>\n",
       "      <td>-15</td>\n",
       "    </tr>\n",
       "    <tr>\n",
       "      <th>...</th>\n",
       "      <td>...</td>\n",
       "      <td>...</td>\n",
       "      <td>...</td>\n",
       "      <td>...</td>\n",
       "      <td>...</td>\n",
       "      <td>...</td>\n",
       "      <td>...</td>\n",
       "      <td>...</td>\n",
       "      <td>...</td>\n",
       "      <td>...</td>\n",
       "      <td>...</td>\n",
       "      <td>...</td>\n",
       "      <td>...</td>\n",
       "      <td>...</td>\n",
       "      <td>...</td>\n",
       "      <td>...</td>\n",
       "      <td>...</td>\n",
       "      <td>...</td>\n",
       "      <td>...</td>\n",
       "      <td>...</td>\n",
       "      <td>...</td>\n",
       "    </tr>\n",
       "    <tr>\n",
       "      <th>95093</th>\n",
       "      <td>352</td>\n",
       "      <td>40.0</td>\n",
       "      <td>-58.0</td>\n",
       "      <td>58.0</td>\n",
       "      <td>-26.0</td>\n",
       "      <td>26.0</td>\n",
       "      <td>5.833333</td>\n",
       "      <td>1</td>\n",
       "      <td>0</td>\n",
       "      <td>0</td>\n",
       "      <td>...</td>\n",
       "      <td>60</td>\n",
       "      <td>0.149341</td>\n",
       "      <td>0.061693</td>\n",
       "      <td>0.457400</td>\n",
       "      <td>0.265860</td>\n",
       "      <td>0.024608</td>\n",
       "      <td>0.041097</td>\n",
       "      <td>0.740899</td>\n",
       "      <td>-24</td>\n",
       "      <td>24</td>\n",
       "    </tr>\n",
       "    <tr>\n",
       "      <th>95094</th>\n",
       "      <td>353</td>\n",
       "      <td>46.0</td>\n",
       "      <td>55.0</td>\n",
       "      <td>55.0</td>\n",
       "      <td>31.0</td>\n",
       "      <td>31.0</td>\n",
       "      <td>0.000000</td>\n",
       "      <td>1</td>\n",
       "      <td>0</td>\n",
       "      <td>0</td>\n",
       "      <td>...</td>\n",
       "      <td>55</td>\n",
       "      <td>0.039771</td>\n",
       "      <td>0.341653</td>\n",
       "      <td>0.280115</td>\n",
       "      <td>0.295717</td>\n",
       "      <td>0.021925</td>\n",
       "      <td>0.020818</td>\n",
       "      <td>0.441629</td>\n",
       "      <td>31</td>\n",
       "      <td>31</td>\n",
       "    </tr>\n",
       "    <tr>\n",
       "      <th>95095</th>\n",
       "      <td>354</td>\n",
       "      <td>72.0</td>\n",
       "      <td>-20.0</td>\n",
       "      <td>20.0</td>\n",
       "      <td>-20.0</td>\n",
       "      <td>20.0</td>\n",
       "      <td>0.000000</td>\n",
       "      <td>1</td>\n",
       "      <td>0</td>\n",
       "      <td>0</td>\n",
       "      <td>...</td>\n",
       "      <td>19</td>\n",
       "      <td>0.013367</td>\n",
       "      <td>0.467303</td>\n",
       "      <td>0.192696</td>\n",
       "      <td>0.293724</td>\n",
       "      <td>0.021852</td>\n",
       "      <td>0.011058</td>\n",
       "      <td>0.472695</td>\n",
       "      <td>-20</td>\n",
       "      <td>20</td>\n",
       "    </tr>\n",
       "    <tr>\n",
       "      <th>95096</th>\n",
       "      <td>355</td>\n",
       "      <td>60.0</td>\n",
       "      <td>29.0</td>\n",
       "      <td>29.0</td>\n",
       "      <td>-3.0</td>\n",
       "      <td>3.0</td>\n",
       "      <td>0.833333</td>\n",
       "      <td>1</td>\n",
       "      <td>0</td>\n",
       "      <td>0</td>\n",
       "      <td>...</td>\n",
       "      <td>30</td>\n",
       "      <td>0.008746</td>\n",
       "      <td>0.847586</td>\n",
       "      <td>0.065123</td>\n",
       "      <td>0.064332</td>\n",
       "      <td>0.007230</td>\n",
       "      <td>0.006983</td>\n",
       "      <td>0.746178</td>\n",
       "      <td>-3</td>\n",
       "      <td>-3</td>\n",
       "    </tr>\n",
       "    <tr>\n",
       "      <th>95097</th>\n",
       "      <td>356</td>\n",
       "      <td>25.0</td>\n",
       "      <td>-88.0</td>\n",
       "      <td>88.0</td>\n",
       "      <td>-25.0</td>\n",
       "      <td>25.0</td>\n",
       "      <td>0.000000</td>\n",
       "      <td>0</td>\n",
       "      <td>0</td>\n",
       "      <td>0</td>\n",
       "      <td>...</td>\n",
       "      <td>88</td>\n",
       "      <td>0.111146</td>\n",
       "      <td>0.024833</td>\n",
       "      <td>0.442110</td>\n",
       "      <td>0.344045</td>\n",
       "      <td>0.020625</td>\n",
       "      <td>0.057242</td>\n",
       "      <td>0.610930</td>\n",
       "      <td>-21</td>\n",
       "      <td>21</td>\n",
       "    </tr>\n",
       "  </tbody>\n",
       "</table>\n",
       "<p>95098 rows × 124 columns</p>\n",
       "</div>"
      ],
      "text/plain": [
       "       shotID  arenaAdjustedShotDistance  arenaAdjustedXCord  \\\n",
       "0           0                       43.0                47.0   \n",
       "1           1                       51.0                45.0   \n",
       "2           2                       59.0               -31.0   \n",
       "3           3                       14.0               -76.0   \n",
       "4           4                       14.0               -82.0   \n",
       "...       ...                        ...                 ...   \n",
       "95093     352                       40.0               -58.0   \n",
       "95094     353                       46.0                55.0   \n",
       "95095     354                       72.0               -20.0   \n",
       "95096     355                       60.0                29.0   \n",
       "95097     356                       25.0               -88.0   \n",
       "\n",
       "       arenaAdjustedXCordABS  arenaAdjustedYCord  arenaAdjustedYCordAbs  \\\n",
       "0                       47.0                 8.0                    8.0   \n",
       "1                       45.0                26.0                   26.0   \n",
       "2                       31.0                 8.0                    8.0   \n",
       "3                       76.0                -4.0                    4.0   \n",
       "4                       82.0                12.0                   12.0   \n",
       "...                      ...                 ...                    ...   \n",
       "95093                   58.0               -26.0                   26.0   \n",
       "95094                   55.0                31.0                   31.0   \n",
       "95095                   20.0               -20.0                   20.0   \n",
       "95096                   29.0                -3.0                    3.0   \n",
       "95097                   88.0               -25.0                   25.0   \n",
       "\n",
       "       averageRestDifference  awayEmptyNet  awayPenalty1Length  \\\n",
       "0                   0.000000             0                   0   \n",
       "1                   0.000000             0                   0   \n",
       "2                   0.000000             0                   0   \n",
       "3                   0.000000             0                   0   \n",
       "4                   0.000000             0                   0   \n",
       "...                      ...           ...                 ...   \n",
       "95093               5.833333             1                   0   \n",
       "95094               0.000000             1                   0   \n",
       "95095               0.000000             1                   0   \n",
       "95096               0.833333             1                   0   \n",
       "95097               0.000000             0                   0   \n",
       "\n",
       "       awayPenalty1TimeLeft  ...  xCordAdjusted    xFroze     xGoal  \\\n",
       "0                         0  ...             44  0.214393  0.026009   \n",
       "1                         0  ...             44  0.186673  0.007774   \n",
       "2                         0  ...             33  0.256798  0.046070   \n",
       "3                         0  ...             74  0.172590  0.296800   \n",
       "4                         0  ...             81  0.128260  0.057435   \n",
       "...                     ...  ...            ...       ...       ...   \n",
       "95093                     0  ...             60  0.149341  0.061693   \n",
       "95094                     0  ...             55  0.039771  0.341653   \n",
       "95095                     0  ...             19  0.013367  0.467303   \n",
       "95096                     0  ...             30  0.008746  0.847586   \n",
       "95097                     0  ...             88  0.111146  0.024833   \n",
       "\n",
       "       xPlayContinuedInZone  xPlayContinuedOutsideZone  xPlayStopped  \\\n",
       "0                  0.398742                   0.300830      0.022987   \n",
       "1                  0.455486                   0.294453      0.020666   \n",
       "2                  0.358080                   0.259696      0.027936   \n",
       "3                  0.230564                   0.183049      0.024885   \n",
       "4                  0.446106                   0.286419      0.019556   \n",
       "...                     ...                        ...           ...   \n",
       "95093              0.457400                   0.265860      0.024608   \n",
       "95094              0.280115                   0.295717      0.021925   \n",
       "95095              0.192696                   0.293724      0.021852   \n",
       "95096              0.065123                   0.064332      0.007230   \n",
       "95097              0.442110                   0.344045      0.020625   \n",
       "\n",
       "       xRebound  xShotWasOnGoal  yCord  yCordAdjusted  \n",
       "0      0.037040        0.710473      8              8  \n",
       "1      0.034948        0.667152     27             27  \n",
       "2      0.051420        0.644651      8             -8  \n",
       "3      0.092112        0.898032     -5              5  \n",
       "4      0.062224        0.759405     15            -15  \n",
       "...         ...             ...    ...            ...  \n",
       "95093  0.041097        0.740899    -24             24  \n",
       "95094  0.020818        0.441629     31             31  \n",
       "95095  0.011058        0.472695    -20             20  \n",
       "95096  0.006983        0.746178     -3             -3  \n",
       "95097  0.057242        0.610930    -21             21  \n",
       "\n",
       "[95098 rows x 124 columns]"
      ]
     },
     "execution_count": 17,
     "metadata": {},
     "output_type": "execute_result"
    }
   ],
   "source": [
    "shots_df"
   ]
  },
  {
   "cell_type": "code",
   "execution_count": 18,
   "metadata": {},
   "outputs": [
    {
     "data": {
      "image/png": "[encoded data removed]",
      "text/plain": [
       "<Figure size 720x576 with 1 Axes>"
      ]
     },
     "metadata": {},
     "output_type": "display_data"
    }
   ],
   "source": [
    "# Filter out the shots that didn't result in a goal\n",
    "goal_shots = shots_df[shots_df[\"goal\"] == 1]\n",
    "\n",
    "# Set the style of the plot\n",
    "sns.set_style(\"white\")\n",
    "\n",
    "# Create a figure with one subplot\n",
    "fig, ax = plt.subplots(figsize=(10, 8))\n",
    "\n",
    "# Plot the goal shots density map\n",
    "sns.kdeplot(x=goal_shots[\"xCord\"], y=goal_shots[\"yCord\"], shade=True, cmap=\"Reds\", ax=ax)\n",
    "ax.set_title(\"Goal Shot Density\")\n",
    "\n",
    "# Set the plot title and axis labels\n",
    "ax.set_xlabel(\"X Coordinate\")\n",
    "ax.set_ylabel(\"Y Coordinate\")\n",
    "\n",
    "# Show the plot\n",
    "plt.show()"
   ]
  },
  {
   "cell_type": "markdown",
   "metadata": {},
   "source": [
    "This code filters out the shots that resulted in a goal from a dataframe shots_df and stores the result in a new dataframe goal_shots. Then, it sets the style of the plot using Seaborn's set_style() function. A figure with one subplot is created, and a KDE plot of the goal shots' x and y coordinates is plotted using Seaborn's kdeplot() function with a colormap of \"Reds\" and a shading effect."
   ]
  },
  {
   "cell_type": "code",
   "execution_count": 19,
   "metadata": {},
   "outputs": [
    {
     "data": {
      "image/png": "[encoded data removed]",
      "text/plain": [
       "<Figure size 864x432 with 2 Axes>"
      ]
     },
     "metadata": {},
     "output_type": "display_data"
    }
   ],
   "source": [
    "# Filter out the shots that didn't result in a goal\n",
    "goal_shots = shots_df[shots_df[\"goal\"] == 1]\n",
    "missed_shots = shots_df[shots_df[\"goal\"] == 0]\n",
    "\n",
    "# Set the style of the plot\n",
    "sns.set_style(\"white\")\n",
    "\n",
    "# Create a figure with two subplots\n",
    "fig, axs = plt.subplots(ncols=2, figsize=(12, 6))\n",
    "\n",
    "# Plot the goal shots density map in the first subplot\n",
    "sns.kdeplot(x=goal_shots[\"xCord\"], y=goal_shots[\"yCord\"], shade=True, cmap=\"Reds\", ax=axs[0])\n",
    "axs[0].set_title(\"Goal Shots Density\")\n",
    "\n",
    "# Plot the missed shots density map in the second subplot\n",
    "sns.kdeplot(x=missed_shots[\"xCord\"], y=missed_shots[\"yCord\"], shade=True, cmap=\"Blues\", ax=axs[1])\n",
    "axs[1].set_title(\"Missed Shots Density\")\n",
    "\n",
    "# Set the plot title and axis labels\n",
    "fig.suptitle(\"Shot Density Map\")\n",
    "axs[0].set_xlabel(\"X Coordinate\")\n",
    "axs[0].set_ylabel(\"Y Coordinate\")\n",
    "axs[1].set_xlabel(\"X Coordinate\")\n",
    "axs[1].set_ylabel(\"Y Coordinate\")\n",
    "\n",
    "# Show the plot\n",
    "plt.show()"
   ]
  },
  {
   "cell_type": "markdown",
   "metadata": {},
   "source": [
    "This code is similar to the above code, but also returns the shots that did not result in a goal.  We can see that the further away the shot's yCord is from the net,  the less likely a goal will be scored."
   ]
  },
  {
   "cell_type": "code",
   "execution_count": 20,
   "metadata": {},
   "outputs": [
    {
     "data": {
      "image/png": "[encoded data removed]",
      "text/plain": [
       "<Figure size 864x648 with 1 Axes>"
      ]
     },
     "metadata": {},
     "output_type": "display_data"
    }
   ],
   "source": [
    "# Load the hockey rink image and resize it to match the plot dimensions\n",
    "rink_img = mpimg.imread(\"hockeyRink.png\")\n",
    "rink_img_resized = cv2.resize(rink_img, (2000, 850))\n",
    "\n",
    "# Filter out the shots that resulted in a goal\n",
    "missed_shots = shots_df[shots_df[\"goal\"] == 0]\n",
    "\n",
    "# Set the style of the plot\n",
    "sns.set_style(\"white\")\n",
    "\n",
    "# Create a figure with one subplot\n",
    "fig, ax = plt.subplots(figsize=(12, 9))\n",
    "\n",
    "# Set the x and y ranges of the plot\n",
    "x_range = [-100, 100]\n",
    "y_range = [-45, 45]\n",
    "\n",
    "# Plot the hockey rink image in the background\n",
    "ax.imshow(rink_img_resized, extent=[x_range[0], x_range[1], y_range[0], y_range[1]])\n",
    "\n",
    "sns.kdeplot(x=missed_shots[\"xCord\"], y=missed_shots[\"yCord\"], shade=True, cmap=\"Blues\", ax=ax, bw_adjust=.28)\n",
    "\n",
    "# Set the plot title and axis labels\n",
    "ax.set_title(\"Missed Shot Density\")\n",
    "ax.set_xlabel(\"X Coordinate\")\n",
    "ax.set_ylabel(\"Y Coordinate\")\n",
    "\n",
    "# Set the x and y limits of the plot\n",
    "ax.set_xlim(x_range)\n",
    "ax.set_ylim(y_range)\n",
    "\n",
    "# Show the plot\n",
    "plt.show()"
   ]
  },
  {
   "cell_type": "markdown",
   "metadata": {},
   "source": [
    "The above density map shows is showing us where shots are not resulting in goals.  The dark blue area has the msot frequent amount of shots that are missed,  but only because this is where the most shots come from.  The big information we can take from this density map and the opposite (showing shots that were goals) is that shots that were closer to the boards are more likely to miss."
   ]
  },
  {
   "cell_type": "code",
   "execution_count": 21,
   "metadata": {},
   "outputs": [
    {
     "data": {
      "image/png": "[encoded data removed]",
      "text/plain": [
       "<Figure size 864x648 with 1 Axes>"
      ]
     },
     "metadata": {},
     "output_type": "display_data"
    }
   ],
   "source": [
    "# Load the hockey rink image and resize it to match the plot dimensions\n",
    "rink_img = mpimg.imread(\"hockeyRink.png\")\n",
    "rink_img_resized = cv2.resize(rink_img, (2000, 850))\n",
    "\n",
    "# Filter out the shots that didn't result in a goal\n",
    "goal_shots = shots_df[shots_df[\"goal\"] == 1]\n",
    "\n",
    "# Set the style of the plot\n",
    "sns.set_style(\"white\")\n",
    "\n",
    "# Create a figure with one subplot\n",
    "fig, ax = plt.subplots(figsize=(12, 9))\n",
    "\n",
    "# Set the x and y ranges of the plot\n",
    "x_range = [-100, 100]\n",
    "y_range = [-45, 45]\n",
    "\n",
    "# Plot the hockey rink image in the background\n",
    "ax.imshow(rink_img_resized, extent=[x_range[0], x_range[1], y_range[0], y_range[1]])\n",
    "\n",
    "sns.kdeplot(x=goal_shots[\"xCord\"], y=goal_shots[\"yCord\"], shade=True, cmap=\"Reds\", ax=ax, bw_adjust=.28)\n",
    "\n",
    "# Set the plot title and axis labels\n",
    "ax.set_title(\"Goal Shot Density\")\n",
    "ax.set_xlabel(\"X Coordinate\")\n",
    "ax.set_ylabel(\"Y Coordinate\")\n",
    "\n",
    "# Set the x and y limits of the plot\n",
    "ax.set_xlim(x_range)\n",
    "ax.set_ylim(y_range)\n",
    "\n",
    "# Show the plot\n",
    "plt.show()"
   ]
  },
  {
   "cell_type": "markdown",
   "metadata": {},
   "source": [
    "This code loads an image of a hockey rink, resizes it to match the plot dimensions, and filters out the shots that did not result in a goal. Then, it creates a plot with the hockey rink image in the background and a kernel density estimate (KDE) plot of the goal shots' x and y coordinates in the foreground. The goal of the code is to visualize the density of shots that resulted in goals on a hockey rink.\n",
    "\n",
    "\n",
    "\n",
    "From this density map we can see that as a shooter is pushed out towards the boards (towards -45 or 45) that shooters chance of scoring goes down.  This makes me curious to see what would happen if a random 25% of shots were moved out towards the boards by a few feet."
   ]
  },
  {
   "cell_type": "markdown",
   "metadata": {},
   "source": [
    "# Model predicting new shots that are moved 5 feet out towards the boards"
   ]
  },
  {
   "cell_type": "markdown",
   "metadata": {},
   "source": [
    "First, we will isolate the shots that are in between -10 and 10 \"yCord\".  My plan is to show the effects of pushing a shooter out more towards the boards."
   ]
  },
  {
   "cell_type": "code",
   "execution_count": 22,
   "metadata": {},
   "outputs": [],
   "source": [
    "# Filter shots_df to only include shots with yCord between -10 and 10\n",
    "yCord_shots = shots_df[(shots_df['yCord'] >= -10) & (shots_df['yCord'] <= 10)]"
   ]
  },
  {
   "cell_type": "code",
   "execution_count": 23,
   "metadata": {},
   "outputs": [],
   "source": [
    "# Filter the columns that don't have \"adjusted\" or \"Adjusted\" in their column names\n",
    "yCord_shots = yCord_shots.filter(regex='^(?!.*[aA]djusted).*$')"
   ]
  },
  {
   "cell_type": "code",
   "execution_count": 24,
   "metadata": {
    "scrolled": true
   },
   "outputs": [
    {
     "data": {
      "text/html": [
       "<div>\n",
       "<style scoped>\n",
       "    .dataframe tbody tr th:only-of-type {\n",
       "        vertical-align: middle;\n",
       "    }\n",
       "\n",
       "    .dataframe tbody tr th {\n",
       "        vertical-align: top;\n",
       "    }\n",
       "\n",
       "    .dataframe thead th {\n",
       "        text-align: right;\n",
       "    }\n",
       "</style>\n",
       "<table border=\"1\" class=\"dataframe\">\n",
       "  <thead>\n",
       "    <tr style=\"text-align: right;\">\n",
       "      <th></th>\n",
       "      <th>shotID</th>\n",
       "      <th>averageRestDifference</th>\n",
       "      <th>awayEmptyNet</th>\n",
       "      <th>awayPenalty1Length</th>\n",
       "      <th>awayPenalty1TimeLeft</th>\n",
       "      <th>awaySkatersOnIce</th>\n",
       "      <th>awayTeamCode</th>\n",
       "      <th>awayTeamGoals</th>\n",
       "      <th>defendingTeamAverageTimeOnIce</th>\n",
       "      <th>defendingTeamAverageTimeOnIceOfDefencemen</th>\n",
       "      <th>...</th>\n",
       "      <th>timeUntilNextEvent</th>\n",
       "      <th>xCord</th>\n",
       "      <th>xFroze</th>\n",
       "      <th>xGoal</th>\n",
       "      <th>xPlayContinuedInZone</th>\n",
       "      <th>xPlayContinuedOutsideZone</th>\n",
       "      <th>xPlayStopped</th>\n",
       "      <th>xRebound</th>\n",
       "      <th>xShotWasOnGoal</th>\n",
       "      <th>yCord</th>\n",
       "    </tr>\n",
       "  </thead>\n",
       "  <tbody>\n",
       "    <tr>\n",
       "      <th>0</th>\n",
       "      <td>0</td>\n",
       "      <td>0.000000</td>\n",
       "      <td>0</td>\n",
       "      <td>0</td>\n",
       "      <td>0</td>\n",
       "      <td>5</td>\n",
       "      <td>SJS</td>\n",
       "      <td>0</td>\n",
       "      <td>23.000000</td>\n",
       "      <td>23.0</td>\n",
       "      <td>...</td>\n",
       "      <td>1</td>\n",
       "      <td>44</td>\n",
       "      <td>0.214393</td>\n",
       "      <td>0.026009</td>\n",
       "      <td>0.398742</td>\n",
       "      <td>0.300830</td>\n",
       "      <td>0.022987</td>\n",
       "      <td>0.037040</td>\n",
       "      <td>0.710473</td>\n",
       "      <td>8</td>\n",
       "    </tr>\n",
       "    <tr>\n",
       "      <th>2</th>\n",
       "      <td>2</td>\n",
       "      <td>0.000000</td>\n",
       "      <td>0</td>\n",
       "      <td>0</td>\n",
       "      <td>0</td>\n",
       "      <td>5</td>\n",
       "      <td>SJS</td>\n",
       "      <td>0</td>\n",
       "      <td>35.000000</td>\n",
       "      <td>35.0</td>\n",
       "      <td>...</td>\n",
       "      <td>2</td>\n",
       "      <td>-33</td>\n",
       "      <td>0.256798</td>\n",
       "      <td>0.046070</td>\n",
       "      <td>0.358080</td>\n",
       "      <td>0.259696</td>\n",
       "      <td>0.027936</td>\n",
       "      <td>0.051420</td>\n",
       "      <td>0.644651</td>\n",
       "      <td>8</td>\n",
       "    </tr>\n",
       "    <tr>\n",
       "      <th>3</th>\n",
       "      <td>3</td>\n",
       "      <td>0.000000</td>\n",
       "      <td>0</td>\n",
       "      <td>0</td>\n",
       "      <td>0</td>\n",
       "      <td>5</td>\n",
       "      <td>SJS</td>\n",
       "      <td>0</td>\n",
       "      <td>37.000000</td>\n",
       "      <td>37.0</td>\n",
       "      <td>...</td>\n",
       "      <td>0</td>\n",
       "      <td>-74</td>\n",
       "      <td>0.172590</td>\n",
       "      <td>0.296800</td>\n",
       "      <td>0.230564</td>\n",
       "      <td>0.183049</td>\n",
       "      <td>0.024885</td>\n",
       "      <td>0.092112</td>\n",
       "      <td>0.898032</td>\n",
       "      <td>-5</td>\n",
       "    </tr>\n",
       "    <tr>\n",
       "      <th>5</th>\n",
       "      <td>5</td>\n",
       "      <td>0.000000</td>\n",
       "      <td>0</td>\n",
       "      <td>0</td>\n",
       "      <td>0</td>\n",
       "      <td>5</td>\n",
       "      <td>SJS</td>\n",
       "      <td>0</td>\n",
       "      <td>36.000000</td>\n",
       "      <td>36.0</td>\n",
       "      <td>...</td>\n",
       "      <td>22</td>\n",
       "      <td>-68</td>\n",
       "      <td>0.088519</td>\n",
       "      <td>0.060461</td>\n",
       "      <td>0.464366</td>\n",
       "      <td>0.316184</td>\n",
       "      <td>0.026235</td>\n",
       "      <td>0.044235</td>\n",
       "      <td>0.401010</td>\n",
       "      <td>9</td>\n",
       "    </tr>\n",
       "    <tr>\n",
       "      <th>6</th>\n",
       "      <td>6</td>\n",
       "      <td>-5.800000</td>\n",
       "      <td>0</td>\n",
       "      <td>0</td>\n",
       "      <td>0</td>\n",
       "      <td>5</td>\n",
       "      <td>SJS</td>\n",
       "      <td>0</td>\n",
       "      <td>42.600000</td>\n",
       "      <td>46.5</td>\n",
       "      <td>...</td>\n",
       "      <td>25</td>\n",
       "      <td>72</td>\n",
       "      <td>0.083920</td>\n",
       "      <td>0.084009</td>\n",
       "      <td>0.454167</td>\n",
       "      <td>0.309893</td>\n",
       "      <td>0.022000</td>\n",
       "      <td>0.046011</td>\n",
       "      <td>0.536515</td>\n",
       "      <td>2</td>\n",
       "    </tr>\n",
       "    <tr>\n",
       "      <th>...</th>\n",
       "      <td>...</td>\n",
       "      <td>...</td>\n",
       "      <td>...</td>\n",
       "      <td>...</td>\n",
       "      <td>...</td>\n",
       "      <td>...</td>\n",
       "      <td>...</td>\n",
       "      <td>...</td>\n",
       "      <td>...</td>\n",
       "      <td>...</td>\n",
       "      <td>...</td>\n",
       "      <td>...</td>\n",
       "      <td>...</td>\n",
       "      <td>...</td>\n",
       "      <td>...</td>\n",
       "      <td>...</td>\n",
       "      <td>...</td>\n",
       "      <td>...</td>\n",
       "      <td>...</td>\n",
       "      <td>...</td>\n",
       "      <td>...</td>\n",
       "    </tr>\n",
       "    <tr>\n",
       "      <th>95083</th>\n",
       "      <td>342</td>\n",
       "      <td>0.000000</td>\n",
       "      <td>0</td>\n",
       "      <td>120</td>\n",
       "      <td>12</td>\n",
       "      <td>4</td>\n",
       "      <td>CBJ</td>\n",
       "      <td>4</td>\n",
       "      <td>1.000000</td>\n",
       "      <td>1.0</td>\n",
       "      <td>...</td>\n",
       "      <td>2</td>\n",
       "      <td>66</td>\n",
       "      <td>0.216450</td>\n",
       "      <td>0.074031</td>\n",
       "      <td>0.416961</td>\n",
       "      <td>0.181989</td>\n",
       "      <td>0.035184</td>\n",
       "      <td>0.075386</td>\n",
       "      <td>0.869841</td>\n",
       "      <td>1</td>\n",
       "    </tr>\n",
       "    <tr>\n",
       "      <th>95084</th>\n",
       "      <td>343</td>\n",
       "      <td>0.000000</td>\n",
       "      <td>0</td>\n",
       "      <td>120</td>\n",
       "      <td>6</td>\n",
       "      <td>4</td>\n",
       "      <td>CBJ</td>\n",
       "      <td>4</td>\n",
       "      <td>7.000000</td>\n",
       "      <td>7.0</td>\n",
       "      <td>...</td>\n",
       "      <td>9</td>\n",
       "      <td>73</td>\n",
       "      <td>0.180888</td>\n",
       "      <td>0.122011</td>\n",
       "      <td>0.323506</td>\n",
       "      <td>0.277812</td>\n",
       "      <td>0.038504</td>\n",
       "      <td>0.057279</td>\n",
       "      <td>0.523065</td>\n",
       "      <td>5</td>\n",
       "    </tr>\n",
       "    <tr>\n",
       "      <th>95085</th>\n",
       "      <td>344</td>\n",
       "      <td>2.000000</td>\n",
       "      <td>0</td>\n",
       "      <td>0</td>\n",
       "      <td>0</td>\n",
       "      <td>5</td>\n",
       "      <td>CBJ</td>\n",
       "      <td>4</td>\n",
       "      <td>13.400000</td>\n",
       "      <td>16.0</td>\n",
       "      <td>...</td>\n",
       "      <td>2</td>\n",
       "      <td>77</td>\n",
       "      <td>0.099365</td>\n",
       "      <td>0.092506</td>\n",
       "      <td>0.455544</td>\n",
       "      <td>0.269046</td>\n",
       "      <td>0.029801</td>\n",
       "      <td>0.053737</td>\n",
       "      <td>0.558748</td>\n",
       "      <td>0</td>\n",
       "    </tr>\n",
       "    <tr>\n",
       "      <th>95090</th>\n",
       "      <td>349</td>\n",
       "      <td>-8.200000</td>\n",
       "      <td>0</td>\n",
       "      <td>0</td>\n",
       "      <td>0</td>\n",
       "      <td>5</td>\n",
       "      <td>CBJ</td>\n",
       "      <td>4</td>\n",
       "      <td>25.600000</td>\n",
       "      <td>33.0</td>\n",
       "      <td>...</td>\n",
       "      <td>0</td>\n",
       "      <td>79</td>\n",
       "      <td>0.132800</td>\n",
       "      <td>0.179593</td>\n",
       "      <td>0.356378</td>\n",
       "      <td>0.245688</td>\n",
       "      <td>0.021676</td>\n",
       "      <td>0.063865</td>\n",
       "      <td>0.891525</td>\n",
       "      <td>-2</td>\n",
       "    </tr>\n",
       "    <tr>\n",
       "      <th>95096</th>\n",
       "      <td>355</td>\n",
       "      <td>0.833333</td>\n",
       "      <td>1</td>\n",
       "      <td>0</td>\n",
       "      <td>0</td>\n",
       "      <td>6</td>\n",
       "      <td>CBJ</td>\n",
       "      <td>4</td>\n",
       "      <td>72.666667</td>\n",
       "      <td>92.0</td>\n",
       "      <td>...</td>\n",
       "      <td>0</td>\n",
       "      <td>30</td>\n",
       "      <td>0.008746</td>\n",
       "      <td>0.847586</td>\n",
       "      <td>0.065123</td>\n",
       "      <td>0.064332</td>\n",
       "      <td>0.007230</td>\n",
       "      <td>0.006983</td>\n",
       "      <td>0.746178</td>\n",
       "      <td>-3</td>\n",
       "    </tr>\n",
       "  </tbody>\n",
       "</table>\n",
       "<p>41510 rows × 114 columns</p>\n",
       "</div>"
      ],
      "text/plain": [
       "       shotID  averageRestDifference  awayEmptyNet  awayPenalty1Length  \\\n",
       "0           0               0.000000             0                   0   \n",
       "2           2               0.000000             0                   0   \n",
       "3           3               0.000000             0                   0   \n",
       "5           5               0.000000             0                   0   \n",
       "6           6              -5.800000             0                   0   \n",
       "...       ...                    ...           ...                 ...   \n",
       "95083     342               0.000000             0                 120   \n",
       "95084     343               0.000000             0                 120   \n",
       "95085     344               2.000000             0                   0   \n",
       "95090     349              -8.200000             0                   0   \n",
       "95096     355               0.833333             1                   0   \n",
       "\n",
       "       awayPenalty1TimeLeft  awaySkatersOnIce awayTeamCode  awayTeamGoals  \\\n",
       "0                         0                 5          SJS              0   \n",
       "2                         0                 5          SJS              0   \n",
       "3                         0                 5          SJS              0   \n",
       "5                         0                 5          SJS              0   \n",
       "6                         0                 5          SJS              0   \n",
       "...                     ...               ...          ...            ...   \n",
       "95083                    12                 4          CBJ              4   \n",
       "95084                     6                 4          CBJ              4   \n",
       "95085                     0                 5          CBJ              4   \n",
       "95090                     0                 5          CBJ              4   \n",
       "95096                     0                 6          CBJ              4   \n",
       "\n",
       "       defendingTeamAverageTimeOnIce  \\\n",
       "0                          23.000000   \n",
       "2                          35.000000   \n",
       "3                          37.000000   \n",
       "5                          36.000000   \n",
       "6                          42.600000   \n",
       "...                              ...   \n",
       "95083                       1.000000   \n",
       "95084                       7.000000   \n",
       "95085                      13.400000   \n",
       "95090                      25.600000   \n",
       "95096                      72.666667   \n",
       "\n",
       "       defendingTeamAverageTimeOnIceOfDefencemen  ...  timeUntilNextEvent  \\\n",
       "0                                           23.0  ...                   1   \n",
       "2                                           35.0  ...                   2   \n",
       "3                                           37.0  ...                   0   \n",
       "5                                           36.0  ...                  22   \n",
       "6                                           46.5  ...                  25   \n",
       "...                                          ...  ...                 ...   \n",
       "95083                                        1.0  ...                   2   \n",
       "95084                                        7.0  ...                   9   \n",
       "95085                                       16.0  ...                   2   \n",
       "95090                                       33.0  ...                   0   \n",
       "95096                                       92.0  ...                   0   \n",
       "\n",
       "       xCord    xFroze     xGoal  xPlayContinuedInZone  \\\n",
       "0         44  0.214393  0.026009              0.398742   \n",
       "2        -33  0.256798  0.046070              0.358080   \n",
       "3        -74  0.172590  0.296800              0.230564   \n",
       "5        -68  0.088519  0.060461              0.464366   \n",
       "6         72  0.083920  0.084009              0.454167   \n",
       "...      ...       ...       ...                   ...   \n",
       "95083     66  0.216450  0.074031              0.416961   \n",
       "95084     73  0.180888  0.122011              0.323506   \n",
       "95085     77  0.099365  0.092506              0.455544   \n",
       "95090     79  0.132800  0.179593              0.356378   \n",
       "95096     30  0.008746  0.847586              0.065123   \n",
       "\n",
       "       xPlayContinuedOutsideZone  xPlayStopped  xRebound  xShotWasOnGoal  \\\n",
       "0                       0.300830      0.022987  0.037040        0.710473   \n",
       "2                       0.259696      0.027936  0.051420        0.644651   \n",
       "3                       0.183049      0.024885  0.092112        0.898032   \n",
       "5                       0.316184      0.026235  0.044235        0.401010   \n",
       "6                       0.309893      0.022000  0.046011        0.536515   \n",
       "...                          ...           ...       ...             ...   \n",
       "95083                   0.181989      0.035184  0.075386        0.869841   \n",
       "95084                   0.277812      0.038504  0.057279        0.523065   \n",
       "95085                   0.269046      0.029801  0.053737        0.558748   \n",
       "95090                   0.245688      0.021676  0.063865        0.891525   \n",
       "95096                   0.064332      0.007230  0.006983        0.746178   \n",
       "\n",
       "       yCord  \n",
       "0          8  \n",
       "2          8  \n",
       "3         -5  \n",
       "5          9  \n",
       "6          2  \n",
       "...      ...  \n",
       "95083      1  \n",
       "95084      5  \n",
       "95085      0  \n",
       "95090     -2  \n",
       "95096     -3  \n",
       "\n",
       "[41510 rows x 114 columns]"
      ]
     },
     "execution_count": 24,
     "metadata": {},
     "output_type": "execute_result"
    }
   ],
   "source": [
    "yCord_shots"
   ]
  },
  {
   "cell_type": "code",
   "execution_count": 25,
   "metadata": {},
   "outputs": [
    {
     "name": "stdout",
     "output_type": "stream",
     "text": [
      "Number of shots that were a goal: 4499\n"
     ]
    }
   ],
   "source": [
    "num_goals = len(yCord_shots[yCord_shots['goal'] == 1])\n",
    "print(\"Number of shots that were a goal:\", num_goals)"
   ]
  },
  {
   "cell_type": "markdown",
   "metadata": {},
   "source": [
    "There were 4,499 goals in between -10 and 10 coords."
   ]
  },
  {
   "cell_type": "code",
   "execution_count": 26,
   "metadata": {},
   "outputs": [
    {
     "data": {
      "text/html": [
       "<div>\n",
       "<style scoped>\n",
       "    .dataframe tbody tr th:only-of-type {\n",
       "        vertical-align: middle;\n",
       "    }\n",
       "\n",
       "    .dataframe tbody tr th {\n",
       "        vertical-align: top;\n",
       "    }\n",
       "\n",
       "    .dataframe thead th {\n",
       "        text-align: right;\n",
       "    }\n",
       "</style>\n",
       "<table border=\"1\" class=\"dataframe\">\n",
       "  <thead>\n",
       "    <tr style=\"text-align: right;\">\n",
       "      <th></th>\n",
       "      <th>goal</th>\n",
       "      <th>xCord</th>\n",
       "      <th>xFroze</th>\n",
       "      <th>xGoal</th>\n",
       "      <th>xPlayContinuedInZone</th>\n",
       "      <th>xPlayContinuedOutsideZone</th>\n",
       "      <th>xPlayStopped</th>\n",
       "      <th>xRebound</th>\n",
       "      <th>xShotWasOnGoal</th>\n",
       "      <th>yCord</th>\n",
       "    </tr>\n",
       "  </thead>\n",
       "  <tbody>\n",
       "    <tr>\n",
       "      <th>0</th>\n",
       "      <td>0</td>\n",
       "      <td>44</td>\n",
       "      <td>0.214393</td>\n",
       "      <td>0.026009</td>\n",
       "      <td>0.398742</td>\n",
       "      <td>0.300830</td>\n",
       "      <td>0.022987</td>\n",
       "      <td>0.037040</td>\n",
       "      <td>0.710473</td>\n",
       "      <td>8</td>\n",
       "    </tr>\n",
       "    <tr>\n",
       "      <th>2</th>\n",
       "      <td>0</td>\n",
       "      <td>-33</td>\n",
       "      <td>0.256798</td>\n",
       "      <td>0.046070</td>\n",
       "      <td>0.358080</td>\n",
       "      <td>0.259696</td>\n",
       "      <td>0.027936</td>\n",
       "      <td>0.051420</td>\n",
       "      <td>0.644651</td>\n",
       "      <td>8</td>\n",
       "    </tr>\n",
       "    <tr>\n",
       "      <th>3</th>\n",
       "      <td>1</td>\n",
       "      <td>-74</td>\n",
       "      <td>0.172590</td>\n",
       "      <td>0.296800</td>\n",
       "      <td>0.230564</td>\n",
       "      <td>0.183049</td>\n",
       "      <td>0.024885</td>\n",
       "      <td>0.092112</td>\n",
       "      <td>0.898032</td>\n",
       "      <td>-5</td>\n",
       "    </tr>\n",
       "    <tr>\n",
       "      <th>5</th>\n",
       "      <td>0</td>\n",
       "      <td>-68</td>\n",
       "      <td>0.088519</td>\n",
       "      <td>0.060461</td>\n",
       "      <td>0.464366</td>\n",
       "      <td>0.316184</td>\n",
       "      <td>0.026235</td>\n",
       "      <td>0.044235</td>\n",
       "      <td>0.401010</td>\n",
       "      <td>9</td>\n",
       "    </tr>\n",
       "    <tr>\n",
       "      <th>6</th>\n",
       "      <td>0</td>\n",
       "      <td>72</td>\n",
       "      <td>0.083920</td>\n",
       "      <td>0.084009</td>\n",
       "      <td>0.454167</td>\n",
       "      <td>0.309893</td>\n",
       "      <td>0.022000</td>\n",
       "      <td>0.046011</td>\n",
       "      <td>0.536515</td>\n",
       "      <td>2</td>\n",
       "    </tr>\n",
       "    <tr>\n",
       "      <th>...</th>\n",
       "      <td>...</td>\n",
       "      <td>...</td>\n",
       "      <td>...</td>\n",
       "      <td>...</td>\n",
       "      <td>...</td>\n",
       "      <td>...</td>\n",
       "      <td>...</td>\n",
       "      <td>...</td>\n",
       "      <td>...</td>\n",
       "      <td>...</td>\n",
       "    </tr>\n",
       "    <tr>\n",
       "      <th>95083</th>\n",
       "      <td>0</td>\n",
       "      <td>66</td>\n",
       "      <td>0.216450</td>\n",
       "      <td>0.074031</td>\n",
       "      <td>0.416961</td>\n",
       "      <td>0.181989</td>\n",
       "      <td>0.035184</td>\n",
       "      <td>0.075386</td>\n",
       "      <td>0.869841</td>\n",
       "      <td>1</td>\n",
       "    </tr>\n",
       "    <tr>\n",
       "      <th>95084</th>\n",
       "      <td>0</td>\n",
       "      <td>73</td>\n",
       "      <td>0.180888</td>\n",
       "      <td>0.122011</td>\n",
       "      <td>0.323506</td>\n",
       "      <td>0.277812</td>\n",
       "      <td>0.038504</td>\n",
       "      <td>0.057279</td>\n",
       "      <td>0.523065</td>\n",
       "      <td>5</td>\n",
       "    </tr>\n",
       "    <tr>\n",
       "      <th>95085</th>\n",
       "      <td>0</td>\n",
       "      <td>77</td>\n",
       "      <td>0.099365</td>\n",
       "      <td>0.092506</td>\n",
       "      <td>0.455544</td>\n",
       "      <td>0.269046</td>\n",
       "      <td>0.029801</td>\n",
       "      <td>0.053737</td>\n",
       "      <td>0.558748</td>\n",
       "      <td>0</td>\n",
       "    </tr>\n",
       "    <tr>\n",
       "      <th>95090</th>\n",
       "      <td>1</td>\n",
       "      <td>79</td>\n",
       "      <td>0.132800</td>\n",
       "      <td>0.179593</td>\n",
       "      <td>0.356378</td>\n",
       "      <td>0.245688</td>\n",
       "      <td>0.021676</td>\n",
       "      <td>0.063865</td>\n",
       "      <td>0.891525</td>\n",
       "      <td>-2</td>\n",
       "    </tr>\n",
       "    <tr>\n",
       "      <th>95096</th>\n",
       "      <td>1</td>\n",
       "      <td>30</td>\n",
       "      <td>0.008746</td>\n",
       "      <td>0.847586</td>\n",
       "      <td>0.065123</td>\n",
       "      <td>0.064332</td>\n",
       "      <td>0.007230</td>\n",
       "      <td>0.006983</td>\n",
       "      <td>0.746178</td>\n",
       "      <td>-3</td>\n",
       "    </tr>\n",
       "  </tbody>\n",
       "</table>\n",
       "<p>41510 rows × 10 columns</p>\n",
       "</div>"
      ],
      "text/plain": [
       "       goal  xCord    xFroze     xGoal  xPlayContinuedInZone  \\\n",
       "0         0     44  0.214393  0.026009              0.398742   \n",
       "2         0    -33  0.256798  0.046070              0.358080   \n",
       "3         1    -74  0.172590  0.296800              0.230564   \n",
       "5         0    -68  0.088519  0.060461              0.464366   \n",
       "6         0     72  0.083920  0.084009              0.454167   \n",
       "...     ...    ...       ...       ...                   ...   \n",
       "95083     0     66  0.216450  0.074031              0.416961   \n",
       "95084     0     73  0.180888  0.122011              0.323506   \n",
       "95085     0     77  0.099365  0.092506              0.455544   \n",
       "95090     1     79  0.132800  0.179593              0.356378   \n",
       "95096     1     30  0.008746  0.847586              0.065123   \n",
       "\n",
       "       xPlayContinuedOutsideZone  xPlayStopped  xRebound  xShotWasOnGoal  \\\n",
       "0                       0.300830      0.022987  0.037040        0.710473   \n",
       "2                       0.259696      0.027936  0.051420        0.644651   \n",
       "3                       0.183049      0.024885  0.092112        0.898032   \n",
       "5                       0.316184      0.026235  0.044235        0.401010   \n",
       "6                       0.309893      0.022000  0.046011        0.536515   \n",
       "...                          ...           ...       ...             ...   \n",
       "95083                   0.181989      0.035184  0.075386        0.869841   \n",
       "95084                   0.277812      0.038504  0.057279        0.523065   \n",
       "95085                   0.269046      0.029801  0.053737        0.558748   \n",
       "95090                   0.245688      0.021676  0.063865        0.891525   \n",
       "95096                   0.064332      0.007230  0.006983        0.746178   \n",
       "\n",
       "       yCord  \n",
       "0          8  \n",
       "2          8  \n",
       "3         -5  \n",
       "5          9  \n",
       "6          2  \n",
       "...      ...  \n",
       "95083      1  \n",
       "95084      5  \n",
       "95085      0  \n",
       "95090     -2  \n",
       "95096     -3  \n",
       "\n",
       "[41510 rows x 10 columns]"
      ]
     },
     "execution_count": 26,
     "metadata": {},
     "output_type": "execute_result"
    }
   ],
   "source": [
    "# select columns with \"x\" or \"X\" in the column title, as well as the \"yCord\" column\n",
    "x_cols = yCord_shots.filter(regex='^(yCord|[xX].*|goal)$')\n",
    "\n",
    "# create the new dataframe with only the selected columns\n",
    "x_yCord_shots = yCord_shots[x_cols.columns]\n",
    "\n",
    "# display the new dataframe\n",
    "x_yCord_shots"
   ]
  },
  {
   "cell_type": "markdown",
   "metadata": {},
   "source": [
    "We select columns from a dataframe yCord_shots based on whether their column name contains \"x\" or \"X\" or is equal to \"yCord\". The selected columns are stored in a new dataframe x_cols. Then, a new dataframe x_yCord_shots is created with only the selected columns from yCord_shots. Finally, the new dataframe x_yCord_shots is displayed. The goal of this code is to filter and select specific columns from a dataframe based on their column name."
   ]
  },
  {
   "cell_type": "markdown",
   "metadata": {},
   "source": [
    "# linear Regression"
   ]
  },
  {
   "cell_type": "code",
   "execution_count": 27,
   "metadata": {
    "scrolled": true
   },
   "outputs": [
    {
     "name": "stdout",
     "output_type": "stream",
     "text": [
      "Number of shots predicted to be goals with modified yCord values: 760\n",
      "RMSE: 0.007906560312003924\n"
     ]
    },
    {
     "name": "stderr",
     "output_type": "stream",
     "text": [
      "<ipython-input-27-26a25a1cf371>:2: SettingWithCopyWarning: \n",
      "A value is trying to be set on a copy of a slice from a DataFrame.\n",
      "Try using .loc[row_indexer,col_indexer] = value instead\n",
      "\n",
      "See the caveats in the documentation: https://pandas.pydata.org/pandas-docs/stable/user_guide/indexing.html#returning-a-view-versus-a-copy\n",
      "  x_yCord_shots['yCord_modified'] = x_yCord_shots['yCord'].apply(lambda x: x+5 if x >= 0 else x-5)\n"
     ]
    }
   ],
   "source": [
    "# create a new column with the modified yCord values\n",
    "x_yCord_shots['yCord_modified'] = x_yCord_shots['yCord'].apply(lambda x: x+5 if x >= 0 else x-5)\n",
    "\n",
    "# select features and target\n",
    "X = x_yCord_shots.drop(['xGoal'], axis=1) # exclude the 'xGoal' column\n",
    "y = x_yCord_shots['xGoal']\n",
    "\n",
    "# split data into training and testing sets\n",
    "X_train, X_test, y_train, y_test = train_test_split(X, y, test_size=0.2, random_state=42)\n",
    "\n",
    "# fit a linear regression model\n",
    "model = LinearRegression()\n",
    "model.fit(X_train, y_train)\n",
    "\n",
    "# make predictions on the modified yCord values\n",
    "X_modified = X.copy()\n",
    "X_modified['yCord'] = x_yCord_shots['yCord_modified']\n",
    "y_pred = model.predict(X_modified)\n",
    "\n",
    "# calculate the number of shots predicted to be goals\n",
    "num_predicted_goals = sum(y_pred >= 0.5)\n",
    "print(\"Number of shots predicted to be goals with modified yCord values:\", num_predicted_goals)\n",
    "\n",
    "# calculate the RMSE\n",
    "rmse = np.sqrt(mean_squared_error(y, y_pred))\n",
    "print(\"RMSE:\", rmse)"
   ]
  },
  {
   "cell_type": "markdown",
   "metadata": {},
   "source": [
    "Our code is using a linear regression model to predict the number of goals scored based on the position of the shot on the hockey rink. It first modifies the position of the shots, then selects the features and target, splits the data into training and testing sets, fits the linear regression model, and finally makes predictions on the modified shot positions to calculate the number of shots predicted to be goals."
   ]
  },
  {
   "cell_type": "code",
   "execution_count": 28,
   "metadata": {},
   "outputs": [
    {
     "name": "stdout",
     "output_type": "stream",
     "text": [
      "                            OLS Regression Results                            \n",
      "==============================================================================\n",
      "Dep. Variable:                  xGoal   R-squared:                       0.998\n",
      "Model:                            OLS   Adj. R-squared:                  0.998\n",
      "Method:                 Least Squares   F-statistic:                 1.792e+06\n",
      "Date:                Tue, 04 Apr 2023   Prob (F-statistic):               0.00\n",
      "Time:                        13:58:12   Log-Likelihood:             1.2809e+05\n",
      "No. Observations:               33208   AIC:                        -2.562e+05\n",
      "Df Residuals:                   33197   BIC:                        -2.561e+05\n",
      "Df Model:                          10                                         \n",
      "Covariance Type:            nonrobust                                         \n",
      "=============================================================================================\n",
      "                                coef    std err          t      P>|t|      [0.025      0.975]\n",
      "---------------------------------------------------------------------------------------------\n",
      "const                         0.9939      0.000   2397.803      0.000       0.993       0.995\n",
      "goal                          0.0003   9.63e-05      3.117      0.002       0.000       0.000\n",
      "xCord                     -2.797e-08   3.99e-07     -0.070      0.944    -8.1e-07    7.55e-07\n",
      "xFroze                       -0.9993      0.001  -1717.119      0.000      -1.000      -0.998\n",
      "xPlayContinuedInZone         -0.9949      0.000  -2323.831      0.000      -0.996      -0.994\n",
      "xPlayContinuedOutsideZone    -0.9972      0.000  -2419.468      0.000      -0.998      -0.996\n",
      "xPlayStopped                 -0.9728      0.003   -279.345      0.000      -0.980      -0.966\n",
      "xRebound                     -1.0031      0.001   -695.890      0.000      -1.006      -1.000\n",
      "xShotWasOnGoal                0.0038      0.000     11.549      0.000       0.003       0.004\n",
      "yCord                      2.366e-05   1.88e-05      1.261      0.207   -1.31e-05    6.04e-05\n",
      "yCord_modified            -1.274e-05   1.02e-05     -1.253      0.210   -3.27e-05    7.19e-06\n",
      "==============================================================================\n",
      "Omnibus:                   157732.156   Durbin-Watson:                   2.002\n",
      "Prob(Omnibus):                  0.000   Jarque-Bera (JB):    1485840915360.648\n",
      "Skew:                        -180.427   Prob(JB):                         0.00\n",
      "Kurtosis:                   32770.559   Cond. No.                     8.86e+03\n",
      "==============================================================================\n",
      "\n",
      "Notes:\n",
      "[1] Standard Errors assume that the covariance matrix of the errors is correctly specified.\n",
      "[2] The condition number is large, 8.86e+03. This might indicate that there are\n",
      "strong multicollinearity or other numerical problems.\n"
     ]
    }
   ],
   "source": [
    "# create OLS regression summary\n",
    "X_train = sm.add_constant(X_train) # add constant term to the model\n",
    "model_OLS = sm.OLS(y_train, X_train).fit()\n",
    "print(model_OLS.summary())"
   ]
  },
  {
   "cell_type": "markdown",
   "metadata": {},
   "source": [
    "The R-squared value of 0.998 tells us that the other features in the dataset explain 99.8% of the variation in xGoal.\n",
    "\n",
    "The coefficients show how much each feature affects xGoal. For example, a one-unit increase in xFroze would result in a 0.9996 decrease in xGoal.\n",
    "\n",
    "The P-values show whether each feature is statistically significant in predicting xGoal. A p-value less than 0.05 is considered significant, and xShotWasOnGoal is highly significant with a p-value of 0.000.\n",
    "\n",
    "The standard errors show how much the coefficients vary from sample to sample. Smaller standard errors indicate more precise coefficients.\n",
    "\n",
    "The confidence intervals show the range within which the true coefficient value is expected to fall with 95% confidence. For example, the coefficient for xPlayStopped has a 95% confidence interval of -0.980 to -0.966, meaning that we can be 95% confident that the true effect of xPlayStopped on xGoal falls within that range.\n",
    "\n"
   ]
  },
  {
   "cell_type": "markdown",
   "metadata": {},
   "source": [
    "### Residual Plot\n",
    "A residual plot shows the difference between the predicted values and the actual values. It helps you to identify any patterns in the residuals, which can indicate if the model is performing well or not."
   ]
  },
  {
   "cell_type": "code",
   "execution_count": 29,
   "metadata": {},
   "outputs": [
    {
     "name": "stderr",
     "output_type": "stream",
     "text": [
      "C:\\Users\\micha\\anaconda3\\envs\\learn-env\\lib\\site-packages\\seaborn\\_decorators.py:36: FutureWarning: Pass the following variables as keyword args: x, y. From version 0.12, the only valid positional argument will be `data`, and passing other arguments without an explicit keyword will result in an error or misinterpretation.\n",
      "  warnings.warn(\n"
     ]
    },
    {
     "data": {
      "image/png": "[encoded data removed]",
      "text/plain": [
       "<Figure size 432x288 with 1 Axes>"
      ]
     },
     "metadata": {},
     "output_type": "display_data"
    }
   ],
   "source": [
    "# create the residual plot\n",
    "residuals = y_pred - y\n",
    "sns.residplot(y_pred, residuals)\n",
    "plt.title('Residual Plot')\n",
    "plt.xlabel('Predicted Values')\n",
    "plt.ylabel('Residuals')\n",
    "plt.show()"
   ]
  },
  {
   "cell_type": "markdown",
   "metadata": {},
   "source": [
    "The residual plot appears as a straight line along the y-axis at zero, it indicates that the model is doing a good job of capturing the variation in the data"
   ]
  },
  {
   "cell_type": "markdown",
   "metadata": {},
   "source": [
    "### Actual vs. Predicted Plot\n",
    "This plot shows the actual values plotted against the predicted values. This can help you see how well the model is predicting the actual values."
   ]
  },
  {
   "cell_type": "code",
   "execution_count": 30,
   "metadata": {},
   "outputs": [
    {
     "data": {
      "image/png": "[encoded data removed]",
      "text/plain": [
       "<Figure size 432x288 with 1 Axes>"
      ]
     },
     "metadata": {},
     "output_type": "display_data"
    }
   ],
   "source": [
    "# create the actual vs. predicted plot\n",
    "sns.scatterplot(y_pred, y)\n",
    "plt.title('Actual vs. Predicted Plot')\n",
    "plt.xlabel('Predicted Values')\n",
    "plt.ylabel('Actual Values')\n",
    "plt.show()"
   ]
  },
  {
   "cell_type": "markdown",
   "metadata": {},
   "source": [
    "The actual vs. predicted plot is a scatterplot of the predicted goal values (on the x-axis) versus the actual goal values (on the y-axis) for each shot.  Here we see almost a perfect diaganol line indicating that most of the predictions were very close to the actual values."
   ]
  },
  {
   "cell_type": "markdown",
   "metadata": {},
   "source": [
    "### Distribution Plot\n",
    "This plot shows the distribution of the actual and predicted values. If the two distributions overlap, it indicates that the model is performing well."
   ]
  },
  {
   "cell_type": "code",
   "execution_count": 31,
   "metadata": {},
   "outputs": [
    {
     "data": {
      "image/png": "[encoded data removed]",
      "text/plain": [
       "<Figure size 432x288 with 1 Axes>"
      ]
     },
     "metadata": {},
     "output_type": "display_data"
    }
   ],
   "source": [
    "# create the distribution plot\n",
    "sns.kdeplot(y_pred, label='Predicted Values')\n",
    "sns.kdeplot(y, label='Actual Values')\n",
    "plt.title('Distribution Plot')\n",
    "plt.xlabel('Values')\n",
    "plt.ylabel('Density')\n",
    "plt.show()"
   ]
  },
  {
   "cell_type": "markdown",
   "metadata": {},
   "source": [
    "The line on this distribution plot looks almost like a single line, confirming that the features used to predict XGoal are highly correlated.  "
   ]
  },
  {
   "cell_type": "markdown",
   "metadata": {},
   "source": [
    "# Decision Tree"
   ]
  },
  {
   "cell_type": "code",
   "execution_count": 32,
   "metadata": {
    "scrolled": true
   },
   "outputs": [
    {
     "name": "stderr",
     "output_type": "stream",
     "text": [
      "<ipython-input-32-4807d036ca38>:2: SettingWithCopyWarning: \n",
      "A value is trying to be set on a copy of a slice from a DataFrame.\n",
      "Try using .loc[row_indexer,col_indexer] = value instead\n",
      "\n",
      "See the caveats in the documentation: https://pandas.pydata.org/pandas-docs/stable/user_guide/indexing.html#returning-a-view-versus-a-copy\n",
      "  x_yCord_shots['yCord_modified'] = x_yCord_shots['yCord'].apply(lambda x: x+5 if x >= 0 else x-5)\n"
     ]
    },
    {
     "name": "stdout",
     "output_type": "stream",
     "text": [
      "Number of shots predicted to be goals with modified yCord values: 747\n",
      "RMSE: 0.009104864310570442\n"
     ]
    }
   ],
   "source": [
    "# create a new column with the modified yCord values\n",
    "x_yCord_shots['yCord_modified'] = x_yCord_shots['yCord'].apply(lambda x: x+5 if x >= 0 else x-5)\n",
    "\n",
    "# select features and target\n",
    "X = x_yCord_shots.drop(['xGoal'], axis=1) # exclude the 'goal' column\n",
    "y = x_yCord_shots['xGoal']\n",
    "\n",
    "# split data into training and testing sets\n",
    "X_train, X_test, y_train, y_test = train_test_split(X, y, test_size=0.2, random_state=42)\n",
    "\n",
    "# fit a decision tree regression model\n",
    "model = DecisionTreeRegressor(random_state=42)\n",
    "model.fit(X_train, y_train)\n",
    "\n",
    "# make predictions on the modified yCord values\n",
    "X_modified = X.copy()\n",
    "X_modified['yCord'] = x_yCord_shots['yCord_modified']\n",
    "y_pred = model.predict(X_modified)\n",
    "\n",
    "# calculate the number of shots predicted to be goals\n",
    "num_predicted_goals = sum(y_pred >= 0.5)\n",
    "print(\"Number of shots predicted to be goals with modified yCord values:\", num_predicted_goals)\n",
    "\n",
    "# calculate the RMSE\n",
    "rmse = np.sqrt(mean_squared_error(y, y_pred))\n",
    "print(\"RMSE:\", rmse)"
   ]
  },
  {
   "cell_type": "markdown",
   "metadata": {},
   "source": [
    "Using decision decision tree regressor we get a number of 743 shots would be goals, however it is less accurate."
   ]
  },
  {
   "cell_type": "code",
   "execution_count": 33,
   "metadata": {},
   "outputs": [
    {
     "name": "stdout",
     "output_type": "stream",
     "text": [
      "                                 OLS Regression Results                                \n",
      "=======================================================================================\n",
      "Dep. Variable:                  xGoal   R-squared (uncentered):                   0.841\n",
      "Model:                            OLS   Adj. R-squared (uncentered):              0.841\n",
      "Method:                 Least Squares   F-statistic:                          2.190e+04\n",
      "Date:                Tue, 04 Apr 2023   Prob (F-statistic):                        0.00\n",
      "Time:                        13:58:13   Log-Likelihood:                          53111.\n",
      "No. Observations:               41510   AIC:                                 -1.062e+05\n",
      "Df Residuals:                   41500   BIC:                                 -1.061e+05\n",
      "Df Model:                          10                                                  \n",
      "Covariance Type:            nonrobust                                                  \n",
      "=============================================================================================\n",
      "                                coef    std err          t      P>|t|      [0.025      0.975]\n",
      "---------------------------------------------------------------------------------------------\n",
      "goal                          0.0485      0.001     43.712      0.000       0.046       0.051\n",
      "xCord                     -3.161e-06    4.7e-06     -0.673      0.501   -1.24e-05    6.05e-06\n",
      "xFroze                       -0.8840      0.007   -128.864      0.000      -0.897      -0.871\n",
      "xPlayContinuedInZone         -0.1658      0.003    -55.552      0.000      -0.172      -0.160\n",
      "xPlayContinuedOutsideZone    -0.5510      0.004   -127.913      0.000      -0.559      -0.543\n",
      "xPlayStopped                  3.5029      0.035     99.443      0.000       3.434       3.572\n",
      "xRebound                     -1.5285      0.017    -91.175      0.000      -1.561      -1.496\n",
      "xShotWasOnGoal                0.6229      0.002    257.649      0.000       0.618       0.628\n",
      "yCord                        -0.0013      0.000     -6.034      0.000      -0.002      -0.001\n",
      "yCord_modified                0.0008      0.000      7.050      0.000       0.001       0.001\n",
      "==============================================================================\n",
      "Omnibus:                     9153.714   Durbin-Watson:                   1.926\n",
      "Prob(Omnibus):                  0.000   Jarque-Bera (JB):           230527.006\n",
      "Skew:                           0.467   Prob(JB):                         0.00\n",
      "Kurtosis:                      14.507   Cond. No.                     7.61e+03\n",
      "==============================================================================\n",
      "\n",
      "Notes:\n",
      "[1] R² is computed without centering (uncentered) since the model does not contain a constant.\n",
      "[2] Standard Errors assume that the covariance matrix of the errors is correctly specified.\n",
      "[3] The condition number is large, 7.61e+03. This might indicate that there are\n",
      "strong multicollinearity or other numerical problems.\n"
     ]
    },
    {
     "name": "stderr",
     "output_type": "stream",
     "text": [
      "<ipython-input-33-0bb4127ec10e>:2: SettingWithCopyWarning: \n",
      "A value is trying to be set on a copy of a slice from a DataFrame.\n",
      "Try using .loc[row_indexer,col_indexer] = value instead\n",
      "\n",
      "See the caveats in the documentation: https://pandas.pydata.org/pandas-docs/stable/user_guide/indexing.html#returning-a-view-versus-a-copy\n",
      "  x_yCord_shots['xGoal_predicted'] = y_pred\n"
     ]
    }
   ],
   "source": [
    "# add the predicted goals as a new column in the original dataframe\n",
    "x_yCord_shots['xGoal_predicted'] = y_pred\n",
    "\n",
    "# fit an OLS regression model\n",
    "ols_model = sm.OLS(y, X)\n",
    "ols_results = ols_model.fit()\n",
    "\n",
    "# print the regression summary\n",
    "print(ols_results.summary())"
   ]
  },
  {
   "cell_type": "markdown",
   "metadata": {},
   "source": [
    "The dependent variable is xGoal, and there are 10 independent variables.\n",
    "\n",
    "The model has an R-squared value of 0.841, which means that 84.1% of the variability in xGoal can be explained by the independent variables in the model.\n",
    "\n",
    "The model is statistically significant with a p-value of 0.00 for the F-statistic.\n",
    "\n",
    "The coefficients for the independent variables indicate the direction and strength of their relationship with the dependent variable. For example, a one-unit increase in the variable xShotWasOnGoal is associated with a 0.62 increase in the xGoal."
   ]
  },
  {
   "cell_type": "markdown",
   "metadata": {},
   "source": [
    "# Residual Plot"
   ]
  },
  {
   "cell_type": "code",
   "execution_count": 34,
   "metadata": {},
   "outputs": [
    {
     "data": {
      "image/png": "[encoded data removed]",
      "text/plain": [
       "<Figure size 432x288 with 1 Axes>"
      ]
     },
     "metadata": {},
     "output_type": "display_data"
    }
   ],
   "source": [
    "sns.regplot(x=y_pred, y=y, color='blue')\n",
    "plt.plot(y, y, color='red')  # add a line for actual values\n",
    "plt.title('Actual vs. Predicted Plot')\n",
    "plt.xlabel('Predicted Values')\n",
    "plt.ylabel('Actual Values')\n",
    "plt.show()"
   ]
  },
  {
   "cell_type": "markdown",
   "metadata": {},
   "source": [
    "A residual plot with no clear pattern indicates that the model's predictions are not systematically biased in any particular direction, meaning that the model is not consistently over-predicting or under-predicting the target variable. This is generally a good sign and suggests that the model is a good fit for the data."
   ]
  },
  {
   "cell_type": "markdown",
   "metadata": {},
   "source": [
    "# Actual vs. Predicted"
   ]
  },
  {
   "cell_type": "code",
   "execution_count": 35,
   "metadata": {},
   "outputs": [
    {
     "name": "stderr",
     "output_type": "stream",
     "text": [
      "C:\\Users\\micha\\anaconda3\\envs\\learn-env\\lib\\site-packages\\seaborn\\_decorators.py:36: FutureWarning: Pass the following variables as keyword args: x, y. From version 0.12, the only valid positional argument will be `data`, and passing other arguments without an explicit keyword will result in an error or misinterpretation.\n",
      "  warnings.warn(\n"
     ]
    },
    {
     "data": {
      "image/png": "[encoded data removed]",
      "text/plain": [
       "<Figure size 432x288 with 1 Axes>"
      ]
     },
     "metadata": {},
     "output_type": "display_data"
    }
   ],
   "source": [
    "# create the actual vs. predicted plot\n",
    "sns.regplot(y_pred, y, color='blue', line_kws={'color': 'red'})\n",
    "plt.title('Actual vs. Predicted Plot')\n",
    "plt.xlabel('Predicted Values')\n",
    "plt.ylabel('Actual Values')\n",
    "plt.show()"
   ]
  },
  {
   "cell_type": "markdown",
   "metadata": {},
   "source": [
    "we can see that there are some inaccuracies in the model's predictions, as some points are further from the diagonal line."
   ]
  },
  {
   "cell_type": "markdown",
   "metadata": {},
   "source": [
    "# Distribution Plot"
   ]
  },
  {
   "cell_type": "code",
   "execution_count": 36,
   "metadata": {},
   "outputs": [
    {
     "data": {
      "image/png": "[encoded data removed]",
      "text/plain": [
       "<Figure size 360x360 with 1 Axes>"
      ]
     },
     "metadata": {},
     "output_type": "display_data"
    }
   ],
   "source": [
    "# create the distribution plot\n",
    "sns.displot(y-y_pred, kde=True)\n",
    "\n",
    "# add labels and title\n",
    "plt.xlabel('Residuals')\n",
    "plt.title('Distribution of Residuals')\n",
    "plt.show()"
   ]
  },
  {
   "cell_type": "markdown",
   "metadata": {},
   "source": [
    "A distribution plot with a spike at 0 on the x-axis indicates that the residuals are centered around 0, which is a good thing. The fact that the x-axis only goes from -0.20 to 0.15 means that the residuals are mostly concentrated in a narrow range"
   ]
  },
  {
   "cell_type": "markdown",
   "metadata": {},
   "source": [
    "As of now I'd prefer to go with the linear regression because it is more accuarate than the decision tree. "
   ]
  },
  {
   "cell_type": "markdown",
   "metadata": {},
   "source": [
    "# Random Forest"
   ]
  },
  {
   "cell_type": "code",
   "execution_count": 37,
   "metadata": {},
   "outputs": [
    {
     "name": "stderr",
     "output_type": "stream",
     "text": [
      "<ipython-input-37-50721bfd8ef5>:2: SettingWithCopyWarning: \n",
      "A value is trying to be set on a copy of a slice from a DataFrame.\n",
      "Try using .loc[row_indexer,col_indexer] = value instead\n",
      "\n",
      "See the caveats in the documentation: https://pandas.pydata.org/pandas-docs/stable/user_guide/indexing.html#returning-a-view-versus-a-copy\n",
      "  x_yCord_shots['yCord_modified'] = x_yCord_shots['yCord'].apply(lambda x: x+5 if x >= 0 else x-5)\n"
     ]
    },
    {
     "name": "stdout",
     "output_type": "stream",
     "text": [
      "Number of shots predicted to be goals with modified yCord values: 749\n",
      "RMSE: 0.008478132345079603\n"
     ]
    }
   ],
   "source": [
    "# create a new column with the modified yCord values\n",
    "x_yCord_shots['yCord_modified'] = x_yCord_shots['yCord'].apply(lambda x: x+5 if x >= 0 else x-5)\n",
    "\n",
    "# select features and target\n",
    "X = x_yCord_shots.drop(['xGoal'], axis=1) # exclude the 'goal' column\n",
    "y = x_yCord_shots['xGoal']\n",
    "\n",
    "# split data into training and testing sets\n",
    "X_train, X_test, y_train, y_test = train_test_split(X, y, test_size=0.2, random_state=42)\n",
    "\n",
    "# fit a random forest model\n",
    "model = RandomForestRegressor(random_state=42)\n",
    "model.fit(X_train, y_train)\n",
    "\n",
    "# make predictions on the modified yCord values\n",
    "X_modified = X.copy()\n",
    "X_modified['yCord'] = x_yCord_shots['yCord_modified']\n",
    "y_pred = model.predict(X_modified)\n",
    "\n",
    "# calculate the number of shots predicted to be goals\n",
    "num_predicted_goals = sum(y_pred >= 0.5)\n",
    "print(\"Number of shots predicted to be goals with modified yCord values:\", num_predicted_goals)\n",
    "\n",
    "# calculate the RMSE\n",
    "rmse = np.sqrt(mean_squared_error(y, y_pred))\n",
    "print(\"RMSE:\", rmse)"
   ]
  },
  {
   "cell_type": "markdown",
   "metadata": {},
   "source": [
    "According to the RMSE, this Random Forests model is so far the least accurate of the models predicting how many goals would have been scored when pushed out of the high danger zone. After running a linear regression model, and decision tree model, and a random forest model, the linear regression model had the most accurate baseline model, so we will work with that from here on out."
   ]
  },
  {
   "cell_type": "markdown",
   "metadata": {},
   "source": [
    "# Residual Plot"
   ]
  },
  {
   "cell_type": "code",
   "execution_count": 38,
   "metadata": {},
   "outputs": [
    {
     "data": {
      "image/png": "[encoded data removed]",
      "text/plain": [
       "<Figure size 432x288 with 1 Axes>"
      ]
     },
     "metadata": {},
     "output_type": "display_data"
    }
   ],
   "source": [
    "# make predictions on the test set\n",
    "y_pred = model.predict(X_test)\n",
    "\n",
    "# calculate the residuals\n",
    "residuals = y_test - y_pred\n",
    "\n",
    "# create a residual plot\n",
    "plt.scatter(y_pred, residuals)\n",
    "plt.axhline(y=0, color='red', linestyle='--')\n",
    "plt.xlabel('Predicted Values')\n",
    "plt.ylabel('Residuals')\n",
    "plt.title('Residual Plot')\n",
    "plt.show()"
   ]
  },
  {
   "cell_type": "code",
   "execution_count": 39,
   "metadata": {},
   "outputs": [
    {
     "data": {
      "image/png": "[encoded data removed]",
      "text/plain": [
       "<Figure size 432x288 with 1 Axes>"
      ]
     },
     "metadata": {},
     "output_type": "display_data"
    }
   ],
   "source": [
    "# create the plot\n",
    "sns.regplot(x=y_test, y=y_pred, color='b')\n",
    "\n",
    "# add labels and title\n",
    "plt.xlabel('Actual xGoal')\n",
    "plt.ylabel('Predicted xGoal')\n",
    "plt.title('Actual vs Predicted xGoal')\n",
    "\n",
    "# add regression line\n",
    "sns.regplot(x=y_test, y=y_pred, scatter=False, color='red')\n",
    "\n",
    "# display the plot\n",
    "plt.show()"
   ]
  },
  {
   "cell_type": "markdown",
   "metadata": {},
   "source": []
  },
  {
   "cell_type": "code",
   "execution_count": 40,
   "metadata": {},
   "outputs": [
    {
     "data": {
      "image/png": "[encoded data removed]",
      "text/plain": [
       "<Figure size 360x360 with 1 Axes>"
      ]
     },
     "metadata": {},
     "output_type": "display_data"
    }
   ],
   "source": [
    "# create a histogram of the target variable\n",
    "sns.displot(data=x_yCord_shots, x=\"xGoal\", kde=True)\n",
    "\n",
    "# add labels and title\n",
    "plt.xlabel('xGoal')\n",
    "plt.ylabel('Count')\n",
    "plt.title('Distribution of xGoal')\n",
    "plt.show()"
   ]
  },
  {
   "cell_type": "markdown",
   "metadata": {},
   "source": [
    "# Looking into the importance of rebounds while defending\n",
    "\n",
    "As we explore ways to improve the Sabres' defense, we have identified an additional factor that plays a crucial role in determining if a shot results in a goal. Specifically, we want to investigate the impact of rebounds on goal scoring and identify which types of shots are most likely to result in rebounds. By doing so, we hope to provide our goalie with valuable insights into which shots are most likely to pose a significant threat even after the initial save."
   ]
  },
  {
   "cell_type": "code",
   "execution_count": 41,
   "metadata": {},
   "outputs": [
    {
     "name": "stdout",
     "output_type": "stream",
     "text": [
      "Correlation between xGoal and xRebound: 0.29491126300257775\n"
     ]
    }
   ],
   "source": [
    "# calculate the correlation matrix for the DataFrame\n",
    "corr_matrix = shots_df.corr()\n",
    "\n",
    "# select the correlation value between \"xGoal\" and \"xRebound\"\n",
    "corr_xGoal_xRebound = corr_matrix.loc[\"xGoal\", \"xRebound\"]\n",
    "\n",
    "# print the correlation value\n",
    "print(\"Correlation between xGoal and xRebound:\", corr_xGoal_xRebound)"
   ]
  },
  {
   "cell_type": "markdown",
   "metadata": {},
   "source": [
    "A coefficient of 0.295 indicates that there is a tendency for higher values of xRebound to be associated with higher values of xGoal, but the strength of this relationship is only moderate.  However when looking at the correlation between just Buffalo's goals against and rebounds, there is a stronger correlation suggesting that buffalo does worse than average at defending against rebounds."
   ]
  },
  {
   "cell_type": "code",
   "execution_count": 42,
   "metadata": {},
   "outputs": [
    {
     "data": {
      "image/png": "[encoded data removed]",
      "text/plain": [
       "<Figure size 864x648 with 1 Axes>"
      ]
     },
     "metadata": {},
     "output_type": "display_data"
    }
   ],
   "source": [
    "# Load the hockey rink image and resize it to match the plot dimensions\n",
    "rink_img = plt.imread(\"hockeyRink.png\")\n",
    "rink_img_resized = cv2.resize(rink_img, (2000, 850))\n",
    "\n",
    "# Filter the shots that resulted in a rebound\n",
    "rebound_shots = shots_df[shots_df[\"shotRebound\"] == 1]\n",
    "\n",
    "# Set the style of the plot\n",
    "sns.set_style(\"white\")\n",
    "\n",
    "# Create a figure with one subplot\n",
    "fig, ax = plt.subplots(figsize=(12, 9))\n",
    "\n",
    "# Set the x and y ranges of the plot\n",
    "x_range = [-100, 100]\n",
    "y_range = [-45, 45]\n",
    "\n",
    "# Plot the hockey rink image in the background\n",
    "ax.imshow(rink_img_resized, extent=[x_range[0], x_range[1], y_range[0], y_range[1]])\n",
    "\n",
    "# Create a density plot of the rebound shots\n",
    "sns.kdeplot(x=rebound_shots[\"xCord\"], y=rebound_shots[\"yCord\"], shade=True, cmap=\"Blues\", ax=ax, bw_adjust=.1)\n",
    "\n",
    "# Set the plot title and axis labels\n",
    "ax.set_title(\"Rebound Shot Density\")\n",
    "ax.set_xlabel(\"X Coordinate\")\n",
    "ax.set_ylabel(\"Y Coordinate\")\n",
    "\n",
    "# Set the x and y limits of the plot\n",
    "ax.set_xlim(x_range)\n",
    "ax.set_ylim(y_range)\n",
    "\n",
    "# Show the plot\n",
    "plt.show()"
   ]
  },
  {
   "cell_type": "markdown",
   "metadata": {},
   "source": [
    "The density map presented above provides valuable insights for the goalies and defense of the team, highlighting the most frequent areas where rebound shots tend to occur. By sharing this information with the Sabres' goalies, they can gain a strategic advantage by knowing precisely where to anticipate the puck's location and be prepared to react quickly to freeze the puck, halting play.\n",
    "\n",
    "In addition to the advantage gained by goalies, the density map can also be a useful tool for defensemen, providing them with insights into the areas of the ice where the opposing team is likely to generate rebound shots. Armed with this information, defensemen can anticipate the puck's trajectory and be better positioned to retrieve it. Moreover, with a clear understanding of the most common rebound areas, they can take proactive measures to prevent the opposing team from scoring altogether by disrupting the play and moving the puck out of the defensive zone. By doing so, they can contribute to the team's overall defensive strategy and help minimize the chances of a goal being scored against them."
   ]
  },
  {
   "cell_type": "code",
   "execution_count": null,
   "metadata": {},
   "outputs": [],
   "source": []
  },
  {
   "cell_type": "code",
   "execution_count": null,
   "metadata": {},
   "outputs": [],
   "source": []
  },
  {
   "cell_type": "code",
   "execution_count": null,
   "metadata": {},
   "outputs": [],
   "source": []
  },
  {
   "cell_type": "markdown",
   "metadata": {},
   "source": [
    "# Summary"
   ]
  },
  {
   "cell_type": "markdown",
   "metadata": {},
   "source": [
    "The Baseline Linear Regression Model seems to be the most accurate.  It predicts that out of the 4,499 goals scored in and near the high danger zone, only 760 of them would be goals if the shooter was pushed out another 5 feet.  If the sabres apply the strategy of pushing a player further away from the center of the ice, they will greatly reduce the chance that the shooter will score.\n",
    "\n",
    "The density map can provide valuable insights for both goalies and defensemen, highlighting the most frequent areas where rebound shots tend to occur. By knowing precisely where to anticipate the puck's location, the Sabres' goalies can gain a strategic advantage and be prepared to react quickly. Similarly, defensemen can use the information to anticipate the puck's trajectory, retrieve it, and prevent the opposing team from scoring by disrupting the play and moving the puck out of the defensive zone.\n",
    "\n",
    "In order to strive for a level of success similar to that of the Boston team, our focus must shift towards improving the defensive strategies of the Buffalo Sabres. With this in mind, we have developed a series of informative visuals that are aimed at reducing the number of goals scored against us. By emphasizing the importance of keeping shots wide and closely monitoring high rebound areas, we hope to instill a new defensive strategy that will benefit the team in the long run.\n",
    "\n",
    "In the event that the Sabres encounter difficulties in adapting to these new defensive tactics, we may need to undertake a comprehensive analysis of the individual performances of our players. Through such analysis, we will be able to identify which players are fulfilling their roles effectively and which players may require further attention. This process will allow us to determine which players should be retained and which ones may need to be replaced in order to maximize the potential of our team."
   ]
  },
  {
   "cell_type": "code",
   "execution_count": null,
   "metadata": {},
   "outputs": [],
   "source": []
  }
 ],
 "metadata": {
  "kernelspec": {
   "display_name": "Python (learn-env)",
   "language": "python",
   "name": "learn-env"
  },
  "language_info": {
   "codemirror_mode": {
    "name": "ipython",
    "version": 3
   },
   "file_extension": ".py",
   "mimetype": "text/x-python",
   "name": "python",
   "nbconvert_exporter": "python",
   "pygments_lexer": "ipython3",
   "version": "3.8.5"
  }
 },
 "nbformat": 4,
 "nbformat_minor": 4
}
